{
 "cells": [
  {
   "cell_type": "code",
   "execution_count": 7,
   "id": "11ab5bcb-e8ae-4491-aa14-5c24a8d7fd73",
   "metadata": {},
   "outputs": [
    {
     "name": "stdout",
     "output_type": "stream",
     "text": [
      "Data shape (raw/used): (800, 5) / (800, 3)\n",
      "Init membership shape: (800, 3)\n",
      "True posterior shape : (800, 3)\n",
      "Inferred clusters C = 3\n",
      "[System] Selected device: cuda\n",
      "[DDQN] Using device: cuda | param device: cuda:0\n",
      "[DDQN] Params on cuda: False\n",
      "[Check] Q tensor device: cuda:0\n"
     ]
    },
    {
     "name": "stderr",
     "output_type": "stream",
     "text": [
      "Training DDQN:   0%|                                | 0/150 [00:00<?, ?it/s]"
     ]
    },
    {
     "name": "stdout",
     "output_type": "stream",
     "text": [
      "[DDQN] state=('Stalled', 'VLD') -> action p_m=0.75, p_c=0.25\n"
     ]
    },
    {
     "name": "stderr",
     "output_type": "stream",
     "text": [
      "Training DDQN:   1%|▏                   | 1/150 [04:21<10:50:25, 261.92s/it]"
     ]
    },
    {
     "name": "stdout",
     "output_type": "stream",
     "text": [
      "[DDQN] improvement=0.000000 diversity=4.1004 reward=0\n",
      "[DDQN] state=('Stalled', 'VHD') -> action p_m=0.25, p_c=0.25\n"
     ]
    },
    {
     "name": "stderr",
     "output_type": "stream",
     "text": [
      "Training DDQN:   1%|▎                   | 2/150 [08:45<10:48:34, 262.94s/it]"
     ]
    },
    {
     "name": "stdout",
     "output_type": "stream",
     "text": [
      "[DDQN] improvement=0.050311 diversity=3.3361 reward=200\n",
      "[DDQN] state=('VHC', 'VHD') -> action p_m=0.25, p_c=0.25\n"
     ]
    },
    {
     "name": "stderr",
     "output_type": "stream",
     "text": [
      "Training DDQN:   2%|▍                   | 3/150 [13:13<10:49:24, 265.06s/it]"
     ]
    },
    {
     "name": "stdout",
     "output_type": "stream",
     "text": [
      "[DDQN] improvement=-0.031356 diversity=2.8846 reward=-100\n",
      "[DDQN] state=('Increased', 'VHD') -> action p_m=1.00, p_c=1.00\n"
     ]
    },
    {
     "name": "stderr",
     "output_type": "stream",
     "text": [
      "Training DDQN:   3%|▌                   | 4/150 [17:32<10:39:54, 262.97s/it]"
     ]
    },
    {
     "name": "stdout",
     "output_type": "stream",
     "text": [
      "[DDQN] improvement=0.098632 diversity=4.6635 reward=200\n",
      "[DDQN] state=('VHC', 'VHD') -> action p_m=0.50, p_c=0.50\n"
     ]
    },
    {
     "name": "stderr",
     "output_type": "stream",
     "text": [
      "Training DDQN:   3%|▋                   | 5/150 [21:52<10:32:09, 261.58s/it]"
     ]
    },
    {
     "name": "stdout",
     "output_type": "stream",
     "text": [
      "[DDQN] improvement=-0.070493 diversity=4.7226 reward=-100\n",
      "[DDQN] state=('Increased', 'VHD') -> action p_m=0.75, p_c=0.75\n"
     ]
    },
    {
     "name": "stderr",
     "output_type": "stream",
     "text": [
      "Training DDQN:   4%|▊                   | 6/150 [26:10<10:24:51, 260.35s/it]"
     ]
    },
    {
     "name": "stdout",
     "output_type": "stream",
     "text": [
      "[DDQN] improvement=0.003121 diversity=5.5812 reward=150\n",
      "[DDQN] state=('HC', 'VHD') -> action p_m=0.75, p_c=1.00\n"
     ]
    },
    {
     "name": "stderr",
     "output_type": "stream",
     "text": [
      "Training DDQN:   5%|▉                   | 7/150 [30:27<10:18:34, 259.54s/it]"
     ]
    },
    {
     "name": "stdout",
     "output_type": "stream",
     "text": [
      "[DDQN] improvement=-0.010191 diversity=7.2082 reward=-100\n",
      "[DDQN] state=('Increased', 'VHD') -> action p_m=0.00, p_c=0.75\n"
     ]
    },
    {
     "name": "stderr",
     "output_type": "stream",
     "text": [
      "Training DDQN:   5%|█                   | 8/150 [34:48<10:14:46, 259.76s/it]"
     ]
    },
    {
     "name": "stdout",
     "output_type": "stream",
     "text": [
      "[DDQN] improvement=-0.012880 diversity=1.3646 reward=-100\n",
      "[DDQN] state=('Increased', 'VHD') -> action p_m=0.50, p_c=0.75\n"
     ]
    },
    {
     "name": "stderr",
     "output_type": "stream",
     "text": [
      "Training DDQN:   6%|█▏                  | 9/150 [39:06<10:09:19, 259.28s/it]"
     ]
    },
    {
     "name": "stdout",
     "output_type": "stream",
     "text": [
      "[DDQN] improvement=0.004936 diversity=5.2078 reward=150\n",
      "[DDQN] state=('HC', 'VHD') -> action p_m=0.50, p_c=0.00\n"
     ]
    },
    {
     "name": "stderr",
     "output_type": "stream",
     "text": [
      "Training DDQN:   7%|█▎                 | 10/150 [43:24<10:04:00, 258.86s/it]"
     ]
    },
    {
     "name": "stdout",
     "output_type": "stream",
     "text": [
      "[DDQN] improvement=0.020987 diversity=6.4120 reward=200\n",
      "[DDQN] state=('VHC', 'VHD') -> action p_m=0.75, p_c=0.50\n"
     ]
    },
    {
     "name": "stderr",
     "output_type": "stream",
     "text": [
      "Training DDQN:   7%|█▍                  | 11/150 [47:41<9:58:21, 258.28s/it]"
     ]
    },
    {
     "name": "stdout",
     "output_type": "stream",
     "text": [
      "[DDQN] improvement=0.004035 diversity=11.5944 reward=150\n",
      "[DDQN] state=('HC', 'VHD') -> action p_m=0.50, p_c=0.25\n"
     ]
    },
    {
     "name": "stderr",
     "output_type": "stream",
     "text": [
      "Training DDQN:   8%|█▌                  | 12/150 [51:59<9:53:56, 258.24s/it]"
     ]
    },
    {
     "name": "stdout",
     "output_type": "stream",
     "text": [
      "[DDQN] improvement=0.010375 diversity=7.9001 reward=200\n",
      "[DDQN] state=('VHC', 'VHD') -> action p_m=0.50, p_c=0.00\n"
     ]
    },
    {
     "name": "stderr",
     "output_type": "stream",
     "text": [
      "Training DDQN:   9%|█▋                  | 13/150 [56:17<9:49:19, 258.10s/it]"
     ]
    },
    {
     "name": "stdout",
     "output_type": "stream",
     "text": [
      "[DDQN] improvement=-0.019788 diversity=4.4160 reward=-100\n",
      "[DDQN] state=('Increased', 'VHD') -> action p_m=0.00, p_c=0.50\n"
     ]
    },
    {
     "name": "stderr",
     "output_type": "stream",
     "text": [
      "Training DDQN:   9%|█▋                | 14/150 [1:00:36<9:45:54, 258.49s/it]"
     ]
    },
    {
     "name": "stdout",
     "output_type": "stream",
     "text": [
      "[DDQN] improvement=0.007338 diversity=0.9123 reward=200\n",
      "[DDQN] state=('VHC', 'VHD') -> action p_m=0.00, p_c=0.25\n"
     ]
    },
    {
     "name": "stderr",
     "output_type": "stream",
     "text": [
      "Training DDQN:  10%|█▊                | 15/150 [1:04:54<9:40:57, 258.20s/it]"
     ]
    },
    {
     "name": "stdout",
     "output_type": "stream",
     "text": [
      "[DDQN] improvement=0.032785 diversity=0.0000 reward=25\n",
      "[DDQN] state=('VHC', 'VLD') -> action p_m=0.25, p_c=0.00\n"
     ]
    },
    {
     "name": "stderr",
     "output_type": "stream",
     "text": [
      "Training DDQN:  11%|█▉                | 16/150 [1:09:12<9:36:51, 258.29s/it]"
     ]
    },
    {
     "name": "stdout",
     "output_type": "stream",
     "text": [
      "[DDQN] improvement=-0.006785 diversity=2.9766 reward=-100\n",
      "[DDQN] state=('Increased', 'VHD') -> action p_m=1.00, p_c=1.00\n"
     ]
    },
    {
     "name": "stderr",
     "output_type": "stream",
     "text": [
      "Training DDQN:  11%|██                | 17/150 [1:13:34<9:34:44, 259.28s/it]"
     ]
    },
    {
     "name": "stdout",
     "output_type": "stream",
     "text": [
      "[DDQN] improvement=0.002185 diversity=8.0200 reward=100\n",
      "[DDQN] state=('LC', 'VHD') -> action p_m=0.50, p_c=0.75\n"
     ]
    },
    {
     "name": "stderr",
     "output_type": "stream",
     "text": [
      "Training DDQN:  12%|██▏               | 18/150 [1:17:52<9:30:01, 259.10s/it]"
     ]
    },
    {
     "name": "stdout",
     "output_type": "stream",
     "text": [
      "[DDQN] improvement=-0.047893 diversity=8.1832 reward=-100\n",
      "[DDQN] state=('Increased', 'VHD') -> action p_m=0.50, p_c=0.00\n"
     ]
    },
    {
     "name": "stderr",
     "output_type": "stream",
     "text": [
      "Training DDQN:  13%|██▎               | 19/150 [1:22:10<9:24:44, 258.66s/it]"
     ]
    },
    {
     "name": "stdout",
     "output_type": "stream",
     "text": [
      "[DDQN] improvement=0.029090 diversity=10.4663 reward=200\n",
      "[DDQN] state=('VHC', 'VHD') -> action p_m=0.00, p_c=0.75\n"
     ]
    },
    {
     "name": "stderr",
     "output_type": "stream",
     "text": [
      "Training DDQN:  13%|██▍               | 20/150 [1:26:28<9:19:44, 258.35s/it]"
     ]
    },
    {
     "name": "stdout",
     "output_type": "stream",
     "text": [
      "[DDQN] improvement=0.040416 diversity=3.1120 reward=200\n",
      "[DDQN] state=('VHC', 'VHD') -> action p_m=0.75, p_c=1.00\n"
     ]
    },
    {
     "name": "stderr",
     "output_type": "stream",
     "text": [
      "Training DDQN:  14%|██▌               | 21/150 [1:30:46<9:15:14, 258.25s/it]"
     ]
    },
    {
     "name": "stdout",
     "output_type": "stream",
     "text": [
      "[DDQN] improvement=-0.004657 diversity=7.4380 reward=-100\n",
      "[DDQN] state=('Increased', 'VHD') -> action p_m=1.00, p_c=0.50\n"
     ]
    },
    {
     "name": "stderr",
     "output_type": "stream",
     "text": [
      "Training DDQN:  15%|██▋               | 22/150 [1:35:04<9:10:50, 258.21s/it]"
     ]
    },
    {
     "name": "stdout",
     "output_type": "stream",
     "text": [
      "[DDQN] improvement=-0.054565 diversity=6.0920 reward=-100\n",
      "[DDQN] state=('Increased', 'VHD') -> action p_m=0.75, p_c=0.75\n"
     ]
    },
    {
     "name": "stderr",
     "output_type": "stream",
     "text": [
      "Training DDQN:  15%|██▊               | 23/150 [1:39:21<9:05:57, 257.93s/it]"
     ]
    },
    {
     "name": "stdout",
     "output_type": "stream",
     "text": [
      "[DDQN] improvement=-0.021044 diversity=4.2129 reward=-100\n",
      "[DDQN] state=('Increased', 'VHD') -> action p_m=0.50, p_c=0.50\n"
     ]
    },
    {
     "name": "stderr",
     "output_type": "stream",
     "text": [
      "Training DDQN:  16%|██▉               | 24/150 [1:43:39<9:01:34, 257.89s/it]"
     ]
    },
    {
     "name": "stdout",
     "output_type": "stream",
     "text": [
      "[DDQN] improvement=0.043210 diversity=3.1984 reward=200\n",
      "[DDQN] state=('VHC', 'VHD') -> action p_m=0.25, p_c=0.50\n"
     ]
    },
    {
     "name": "stderr",
     "output_type": "stream",
     "text": [
      "Training DDQN:  17%|███               | 25/150 [1:47:57<8:57:32, 258.02s/it]"
     ]
    },
    {
     "name": "stdout",
     "output_type": "stream",
     "text": [
      "[DDQN] improvement=-0.020522 diversity=3.3149 reward=-100\n",
      "[DDQN] state=('Increased', 'VHD') -> action p_m=0.75, p_c=0.50\n"
     ]
    },
    {
     "name": "stderr",
     "output_type": "stream",
     "text": [
      "Training DDQN:  17%|███               | 26/150 [1:52:18<8:54:49, 258.78s/it]"
     ]
    },
    {
     "name": "stdout",
     "output_type": "stream",
     "text": [
      "[DDQN] improvement=-0.071569 diversity=5.4876 reward=-100\n",
      "[DDQN] state=('Increased', 'VHD') -> action p_m=0.50, p_c=0.50\n"
     ]
    },
    {
     "name": "stderr",
     "output_type": "stream",
     "text": [
      "Training DDQN:  18%|███▏              | 27/150 [1:56:35<8:49:19, 258.21s/it]"
     ]
    },
    {
     "name": "stdout",
     "output_type": "stream",
     "text": [
      "[DDQN] improvement=0.057337 diversity=5.1037 reward=200\n",
      "[DDQN] state=('VHC', 'VHD') -> action p_m=0.50, p_c=0.75\n"
     ]
    },
    {
     "name": "stderr",
     "output_type": "stream",
     "text": [
      "Training DDQN:  19%|███▎              | 28/150 [2:00:55<8:46:23, 258.88s/it]"
     ]
    },
    {
     "name": "stdout",
     "output_type": "stream",
     "text": [
      "[DDQN] improvement=-0.001325 diversity=5.4390 reward=-100\n",
      "[DDQN] state=('Increased', 'VHD') -> action p_m=0.00, p_c=0.00\n"
     ]
    },
    {
     "name": "stderr",
     "output_type": "stream",
     "text": [
      "Training DDQN:  19%|███▍              | 29/150 [2:05:20<8:45:52, 260.77s/it]"
     ]
    },
    {
     "name": "stdout",
     "output_type": "stream",
     "text": [
      "[DDQN] improvement=0.002331 diversity=0.0000 reward=12.5\n",
      "[DDQN] state=('LC', 'VLD') -> action p_m=0.75, p_c=1.00\n"
     ]
    },
    {
     "name": "stderr",
     "output_type": "stream",
     "text": [
      "Training DDQN:  20%|███▌              | 30/150 [2:09:44<8:43:09, 261.58s/it]"
     ]
    },
    {
     "name": "stdout",
     "output_type": "stream",
     "text": [
      "[DDQN] improvement=-0.017659 diversity=5.5946 reward=-100\n",
      "[DDQN] state=('Increased', 'VHD') -> action p_m=0.25, p_c=1.00\n"
     ]
    },
    {
     "name": "stderr",
     "output_type": "stream",
     "text": [
      "Training DDQN:  21%|███▋              | 31/150 [2:14:20<8:47:27, 265.95s/it]"
     ]
    },
    {
     "name": "stdout",
     "output_type": "stream",
     "text": [
      "[DDQN] improvement=-0.026020 diversity=2.9042 reward=-100\n",
      "[DDQN] state=('Increased', 'VHD') -> action p_m=1.00, p_c=0.25\n"
     ]
    },
    {
     "name": "stderr",
     "output_type": "stream",
     "text": [
      "Training DDQN:  21%|███▊              | 32/150 [2:18:44<8:42:13, 265.54s/it]"
     ]
    },
    {
     "name": "stdout",
     "output_type": "stream",
     "text": [
      "[DDQN] improvement=0.042226 diversity=6.1439 reward=200\n",
      "[DDQN] state=('VHC', 'VHD') -> action p_m=0.75, p_c=0.25\n"
     ]
    },
    {
     "name": "stderr",
     "output_type": "stream",
     "text": [
      "Training DDQN:  22%|███▉              | 33/150 [2:23:12<8:38:57, 266.14s/it]"
     ]
    },
    {
     "name": "stdout",
     "output_type": "stream",
     "text": [
      "[DDQN] improvement=-0.018390 diversity=5.4278 reward=-100\n",
      "[DDQN] state=('Increased', 'VHD') -> action p_m=0.75, p_c=0.00\n"
     ]
    },
    {
     "name": "stderr",
     "output_type": "stream",
     "text": [
      "Training DDQN:  23%|████              | 34/150 [2:27:41<8:35:59, 266.89s/it]"
     ]
    },
    {
     "name": "stdout",
     "output_type": "stream",
     "text": [
      "[DDQN] improvement=-0.004715 diversity=5.0573 reward=-100\n",
      "[DDQN] state=('Increased', 'VHD') -> action p_m=0.25, p_c=0.75\n"
     ]
    },
    {
     "name": "stderr",
     "output_type": "stream",
     "text": [
      "Training DDQN:  23%|████▏             | 35/150 [2:32:11<8:33:43, 268.03s/it]"
     ]
    },
    {
     "name": "stdout",
     "output_type": "stream",
     "text": [
      "[DDQN] improvement=0.018720 diversity=3.0537 reward=200\n",
      "[DDQN] state=('VHC', 'VHD') -> action p_m=0.25, p_c=0.75\n"
     ]
    },
    {
     "name": "stderr",
     "output_type": "stream",
     "text": [
      "Training DDQN:  24%|████▎             | 36/150 [2:37:24<8:54:55, 281.54s/it]"
     ]
    },
    {
     "name": "stdout",
     "output_type": "stream",
     "text": [
      "[DDQN] improvement=0.004926 diversity=2.4600 reward=150\n",
      "[DDQN] state=('HC', 'VHD') -> action p_m=0.00, p_c=0.75\n"
     ]
    },
    {
     "name": "stderr",
     "output_type": "stream",
     "text": [
      "Training DDQN:  25%|████▍             | 37/150 [2:43:04<9:22:55, 298.90s/it]"
     ]
    },
    {
     "name": "stdout",
     "output_type": "stream",
     "text": [
      "[DDQN] improvement=0.023966 diversity=1.5236 reward=200\n",
      "[DDQN] state=('VHC', 'VHD') -> action p_m=0.50, p_c=0.25\n"
     ]
    },
    {
     "name": "stderr",
     "output_type": "stream",
     "text": [
      "Training DDQN:  25%|████▌             | 38/150 [2:48:41<9:39:38, 310.52s/it]"
     ]
    },
    {
     "name": "stdout",
     "output_type": "stream",
     "text": [
      "[DDQN] improvement=0.008041 diversity=3.6772 reward=200\n",
      "[DDQN] state=('VHC', 'VHD') -> action p_m=1.00, p_c=0.50\n"
     ]
    },
    {
     "name": "stderr",
     "output_type": "stream",
     "text": [
      "Training DDQN:  26%|████▋             | 39/150 [2:54:01<9:39:31, 313.25s/it]"
     ]
    },
    {
     "name": "stdout",
     "output_type": "stream",
     "text": [
      "[DDQN] improvement=0.052559 diversity=4.4333 reward=200\n",
      "[DDQN] state=('VHC', 'VHD') -> action p_m=0.75, p_c=0.00\n"
     ]
    },
    {
     "name": "stderr",
     "output_type": "stream",
     "text": [
      "Training DDQN:  27%|████▊             | 40/150 [2:59:22<9:38:43, 315.67s/it]"
     ]
    },
    {
     "name": "stdout",
     "output_type": "stream",
     "text": [
      "[DDQN] improvement=-0.062194 diversity=6.3613 reward=-100\n",
      "[DDQN] state=('Increased', 'VHD') -> action p_m=0.50, p_c=0.00\n"
     ]
    },
    {
     "name": "stderr",
     "output_type": "stream",
     "text": [
      "Training DDQN:  27%|████▉             | 41/150 [3:04:39<9:33:49, 315.86s/it]"
     ]
    },
    {
     "name": "stdout",
     "output_type": "stream",
     "text": [
      "[DDQN] improvement=-0.002621 diversity=4.8066 reward=-100\n",
      "[DDQN] state=('Increased', 'VHD') -> action p_m=0.75, p_c=1.00\n"
     ]
    },
    {
     "name": "stderr",
     "output_type": "stream",
     "text": [
      "Training DDQN:  28%|█████             | 42/150 [3:09:42<9:21:56, 312.19s/it]"
     ]
    },
    {
     "name": "stdout",
     "output_type": "stream",
     "text": [
      "[DDQN] improvement=-0.040531 diversity=4.0086 reward=-100\n",
      "[DDQN] state=('Increased', 'VHD') -> action p_m=0.50, p_c=0.50\n"
     ]
    },
    {
     "name": "stderr",
     "output_type": "stream",
     "text": [
      "Training DDQN:  29%|█████▏            | 43/150 [3:14:46<9:12:20, 309.73s/it]"
     ]
    },
    {
     "name": "stdout",
     "output_type": "stream",
     "text": [
      "[DDQN] improvement=0.018620 diversity=4.9256 reward=200\n",
      "[DDQN] state=('VHC', 'VHD') -> action p_m=0.75, p_c=0.25\n"
     ]
    },
    {
     "name": "stderr",
     "output_type": "stream",
     "text": [
      "Training DDQN:  29%|█████▎            | 44/150 [3:19:56<9:07:18, 309.80s/it]"
     ]
    },
    {
     "name": "stdout",
     "output_type": "stream",
     "text": [
      "[DDQN] improvement=-0.046164 diversity=5.0140 reward=-100\n",
      "[DDQN] state=('Increased', 'VHD') -> action p_m=0.50, p_c=0.50\n"
     ]
    },
    {
     "name": "stderr",
     "output_type": "stream",
     "text": [
      "Training DDQN:  30%|█████▍            | 45/150 [3:25:03<9:00:36, 308.91s/it]"
     ]
    },
    {
     "name": "stdout",
     "output_type": "stream",
     "text": [
      "[DDQN] improvement=0.075431 diversity=4.4915 reward=200\n",
      "[DDQN] state=('VHC', 'VHD') -> action p_m=0.50, p_c=0.00\n"
     ]
    },
    {
     "name": "stderr",
     "output_type": "stream",
     "text": [
      "Training DDQN:  31%|█████▌            | 46/150 [3:30:09<8:54:07, 308.15s/it]"
     ]
    },
    {
     "name": "stdout",
     "output_type": "stream",
     "text": [
      "[DDQN] improvement=-0.019636 diversity=4.7322 reward=-100\n",
      "[DDQN] state=('Increased', 'VHD') -> action p_m=0.25, p_c=0.00\n"
     ]
    },
    {
     "name": "stderr",
     "output_type": "stream",
     "text": [
      "Training DDQN:  31%|█████▋            | 47/150 [3:35:45<9:02:52, 316.24s/it]"
     ]
    },
    {
     "name": "stdout",
     "output_type": "stream",
     "text": [
      "[DDQN] improvement=0.037106 diversity=1.9070 reward=200\n",
      "[DDQN] state=('VHC', 'VHD') -> action p_m=0.25, p_c=1.00\n"
     ]
    },
    {
     "name": "stderr",
     "output_type": "stream",
     "text": [
      "Training DDQN:  32%|█████▊            | 48/150 [3:40:31<8:42:37, 307.43s/it]"
     ]
    },
    {
     "name": "stdout",
     "output_type": "stream",
     "text": [
      "[DDQN] improvement=-0.011286 diversity=3.4983 reward=-100\n",
      "[DDQN] state=('Increased', 'VHD') -> action p_m=0.25, p_c=0.00\n"
     ]
    },
    {
     "name": "stderr",
     "output_type": "stream",
     "text": [
      "Training DDQN:  33%|█████▉            | 49/150 [3:45:40<8:38:01, 307.74s/it]"
     ]
    },
    {
     "name": "stdout",
     "output_type": "stream",
     "text": [
      "[DDQN] improvement=-0.028507 diversity=2.9739 reward=-100\n",
      "[DDQN] state=('Increased', 'VHD') -> action p_m=0.75, p_c=1.00\n",
      "[DDQN] improvement=-0.012472 diversity=4.8915 reward=-100\n"
     ]
    },
    {
     "name": "stderr",
     "output_type": "stream",
     "text": [
      "Training DDQN:  33%|██████            | 50/150 [3:50:59<8:38:28, 311.08s/it]"
     ]
    },
    {
     "name": "stdout",
     "output_type": "stream",
     "text": [
      "[DDQN] state=('Increased', 'VHD') -> action p_m=0.75, p_c=1.00\n"
     ]
    },
    {
     "name": "stderr",
     "output_type": "stream",
     "text": [
      "Training DDQN:  34%|██████            | 51/150 [3:55:57<8:26:49, 307.17s/it]"
     ]
    },
    {
     "name": "stdout",
     "output_type": "stream",
     "text": [
      "[DDQN] improvement=0.053464 diversity=4.5986 reward=200\n",
      "[DDQN] state=('VHC', 'VHD') -> action p_m=0.00, p_c=0.00\n"
     ]
    },
    {
     "name": "stderr",
     "output_type": "stream",
     "text": [
      "Training DDQN:  35%|██████▏           | 52/150 [4:00:54<8:16:36, 304.05s/it]"
     ]
    },
    {
     "name": "stdout",
     "output_type": "stream",
     "text": [
      "[DDQN] improvement=-0.186685 diversity=0.3615 reward=-250\n",
      "[DDQN] state=('Increased', 'LD') -> action p_m=0.00, p_c=0.75\n"
     ]
    },
    {
     "name": "stderr",
     "output_type": "stream",
     "text": [
      "Training DDQN:  35%|██████▎           | 53/150 [4:05:50<8:07:55, 301.81s/it]"
     ]
    },
    {
     "name": "stdout",
     "output_type": "stream",
     "text": [
      "[DDQN] improvement=0.071829 diversity=0.5789 reward=100\n",
      "[DDQN] state=('VHC', 'MD') -> action p_m=0.75, p_c=0.25\n"
     ]
    },
    {
     "name": "stderr",
     "output_type": "stream",
     "text": [
      "Training DDQN:  36%|██████▍           | 54/150 [4:10:51<8:02:36, 301.64s/it]"
     ]
    },
    {
     "name": "stdout",
     "output_type": "stream",
     "text": [
      "[DDQN] improvement=0.066762 diversity=5.4298 reward=200\n",
      "[DDQN] state=('VHC', 'VHD') -> action p_m=0.00, p_c=0.25\n"
     ]
    },
    {
     "name": "stderr",
     "output_type": "stream",
     "text": [
      "Training DDQN:  37%|██████▌           | 55/150 [4:15:48<7:55:07, 300.08s/it]"
     ]
    },
    {
     "name": "stdout",
     "output_type": "stream",
     "text": [
      "[DDQN] improvement=0.071317 diversity=0.0000 reward=25\n",
      "[DDQN] state=('VHC', 'VLD') -> action p_m=0.75, p_c=0.25\n"
     ]
    },
    {
     "name": "stderr",
     "output_type": "stream",
     "text": [
      "Training DDQN:  37%|██████▋           | 56/150 [4:20:44<7:48:30, 299.05s/it]"
     ]
    },
    {
     "name": "stdout",
     "output_type": "stream",
     "text": [
      "[DDQN] improvement=-0.120314 diversity=3.6099 reward=-100\n",
      "[DDQN] state=('Increased', 'VHD') -> action p_m=0.25, p_c=1.00\n"
     ]
    },
    {
     "name": "stderr",
     "output_type": "stream",
     "text": [
      "Training DDQN:  38%|██████▊           | 57/150 [4:25:35<7:39:47, 296.64s/it]"
     ]
    },
    {
     "name": "stdout",
     "output_type": "stream",
     "text": [
      "[DDQN] improvement=0.036380 diversity=4.5501 reward=200\n",
      "[DDQN] state=('VHC', 'VHD') -> action p_m=0.00, p_c=0.50\n"
     ]
    },
    {
     "name": "stderr",
     "output_type": "stream",
     "text": [
      "Training DDQN:  39%|██████▉           | 58/150 [4:30:25<7:31:31, 294.47s/it]"
     ]
    },
    {
     "name": "stdout",
     "output_type": "stream",
     "text": [
      "[DDQN] improvement=0.042719 diversity=0.0690 reward=25\n",
      "[DDQN] state=('VHC', 'VLD') -> action p_m=0.00, p_c=0.25\n"
     ]
    },
    {
     "name": "stderr",
     "output_type": "stream",
     "text": [
      "Training DDQN:  39%|███████           | 59/150 [4:35:16<7:25:08, 293.50s/it]"
     ]
    },
    {
     "name": "stdout",
     "output_type": "stream",
     "text": [
      "[DDQN] improvement=-0.029875 diversity=0.2274 reward=-250\n",
      "[DDQN] state=('Increased', 'LD') -> action p_m=1.00, p_c=0.25\n"
     ]
    },
    {
     "name": "stderr",
     "output_type": "stream",
     "text": [
      "Training DDQN:  40%|███████▏          | 60/150 [4:40:14<7:22:06, 294.74s/it]"
     ]
    },
    {
     "name": "stdout",
     "output_type": "stream",
     "text": [
      "[DDQN] improvement=-0.007107 diversity=5.8857 reward=-100\n",
      "[DDQN] state=('Increased', 'VHD') -> action p_m=0.00, p_c=0.00\n"
     ]
    },
    {
     "name": "stderr",
     "output_type": "stream",
     "text": [
      "Training DDQN:  41%|███████▎          | 61/150 [4:45:16<7:20:20, 296.86s/it]"
     ]
    },
    {
     "name": "stdout",
     "output_type": "stream",
     "text": [
      "[DDQN] improvement=0.044918 diversity=0.0000 reward=25\n",
      "[DDQN] state=('VHC', 'VLD') -> action p_m=0.50, p_c=0.50\n"
     ]
    },
    {
     "name": "stderr",
     "output_type": "stream",
     "text": [
      "Training DDQN:  41%|███████▍          | 62/150 [4:50:15<7:16:22, 297.53s/it]"
     ]
    },
    {
     "name": "stdout",
     "output_type": "stream",
     "text": [
      "[DDQN] improvement=-0.028025 diversity=3.9323 reward=-100\n",
      "[DDQN] state=('Increased', 'VHD') -> action p_m=0.75, p_c=0.75\n"
     ]
    },
    {
     "name": "stderr",
     "output_type": "stream",
     "text": [
      "Training DDQN:  42%|███████▌          | 63/150 [4:55:16<7:13:09, 298.73s/it]"
     ]
    },
    {
     "name": "stdout",
     "output_type": "stream",
     "text": [
      "[DDQN] improvement=-0.028720 diversity=7.1017 reward=-100\n",
      "[DDQN] state=('Increased', 'VHD') -> action p_m=0.00, p_c=0.25\n"
     ]
    },
    {
     "name": "stderr",
     "output_type": "stream",
     "text": [
      "Training DDQN:  43%|███████▋          | 64/150 [5:00:13<7:07:09, 298.01s/it]"
     ]
    },
    {
     "name": "stdout",
     "output_type": "stream",
     "text": [
      "[DDQN] improvement=0.068108 diversity=0.4501 reward=100\n",
      "[DDQN] state=('VHC', 'MD') -> action p_m=0.50, p_c=0.50\n"
     ]
    },
    {
     "name": "stderr",
     "output_type": "stream",
     "text": [
      "Training DDQN:  43%|███████▊          | 65/150 [5:05:18<7:05:22, 300.27s/it]"
     ]
    },
    {
     "name": "stdout",
     "output_type": "stream",
     "text": [
      "[DDQN] improvement=-0.089082 diversity=4.0081 reward=-100\n",
      "[DDQN] state=('Increased', 'VHD') -> action p_m=0.75, p_c=0.75\n"
     ]
    },
    {
     "name": "stderr",
     "output_type": "stream",
     "text": [
      "Training DDQN:  44%|███████▉          | 66/150 [5:10:42<7:10:30, 307.51s/it]"
     ]
    },
    {
     "name": "stdout",
     "output_type": "stream",
     "text": [
      "[DDQN] improvement=0.035224 diversity=4.6928 reward=200\n",
      "[DDQN] state=('VHC', 'VHD') -> action p_m=1.00, p_c=0.50\n"
     ]
    },
    {
     "name": "stderr",
     "output_type": "stream",
     "text": [
      "Training DDQN:  45%|████████          | 67/150 [5:16:45<7:28:17, 324.07s/it]"
     ]
    },
    {
     "name": "stdout",
     "output_type": "stream",
     "text": [
      "[DDQN] improvement=0.025437 diversity=8.0522 reward=200\n",
      "[DDQN] state=('VHC', 'VHD') -> action p_m=0.00, p_c=1.00\n"
     ]
    },
    {
     "name": "stderr",
     "output_type": "stream",
     "text": [
      "Training DDQN:  45%|████████▏         | 68/150 [5:22:19<7:26:44, 326.88s/it]"
     ]
    },
    {
     "name": "stdout",
     "output_type": "stream",
     "text": [
      "[DDQN] improvement=0.007867 diversity=0.6185 reward=150\n",
      "[DDQN] state=('VHC', 'HD') -> action p_m=0.25, p_c=1.00\n"
     ]
    },
    {
     "name": "stderr",
     "output_type": "stream",
     "text": [
      "Training DDQN:  46%|████████▎         | 69/150 [5:27:48<7:22:19, 327.65s/it]"
     ]
    },
    {
     "name": "stdout",
     "output_type": "stream",
     "text": [
      "[DDQN] improvement=-0.009500 diversity=3.5412 reward=-100\n",
      "[DDQN] state=('Increased', 'VHD') -> action p_m=1.00, p_c=0.50\n"
     ]
    },
    {
     "name": "stderr",
     "output_type": "stream",
     "text": [
      "Training DDQN:  47%|████████▍         | 70/150 [5:33:01<7:10:48, 323.11s/it]"
     ]
    },
    {
     "name": "stdout",
     "output_type": "stream",
     "text": [
      "[DDQN] improvement=-0.042569 diversity=7.8386 reward=-100\n",
      "[DDQN] state=('Increased', 'VHD') -> action p_m=0.25, p_c=0.25\n"
     ]
    },
    {
     "name": "stderr",
     "output_type": "stream",
     "text": [
      "Training DDQN:  47%|████████▌         | 71/150 [5:38:31<7:08:15, 325.26s/it]"
     ]
    },
    {
     "name": "stdout",
     "output_type": "stream",
     "text": [
      "[DDQN] improvement=0.070196 diversity=3.0541 reward=200\n",
      "[DDQN] state=('VHC', 'VHD') -> action p_m=0.00, p_c=0.75\n"
     ]
    },
    {
     "name": "stderr",
     "output_type": "stream",
     "text": [
      "Training DDQN:  48%|████████▋         | 72/150 [5:43:44<6:57:59, 321.54s/it]"
     ]
    },
    {
     "name": "stdout",
     "output_type": "stream",
     "text": [
      "[DDQN] improvement=-0.009574 diversity=1.3493 reward=-100\n",
      "[DDQN] state=('Increased', 'VHD') -> action p_m=1.00, p_c=0.50\n"
     ]
    },
    {
     "name": "stderr",
     "output_type": "stream",
     "text": [
      "Training DDQN:  49%|████████▊         | 73/150 [5:49:16<6:56:38, 324.66s/it]"
     ]
    },
    {
     "name": "stdout",
     "output_type": "stream",
     "text": [
      "[DDQN] improvement=-0.083860 diversity=6.8803 reward=-100\n",
      "[DDQN] state=('Increased', 'VHD') -> action p_m=0.50, p_c=1.00\n"
     ]
    },
    {
     "name": "stderr",
     "output_type": "stream",
     "text": [
      "Training DDQN:  49%|████████▉         | 74/150 [5:54:41<6:51:34, 324.93s/it]"
     ]
    },
    {
     "name": "stdout",
     "output_type": "stream",
     "text": [
      "[DDQN] improvement=0.059172 diversity=4.3223 reward=200\n",
      "[DDQN] state=('VHC', 'VHD') -> action p_m=0.25, p_c=0.25\n"
     ]
    },
    {
     "name": "stderr",
     "output_type": "stream",
     "text": [
      "Training DDQN:  50%|█████████         | 75/150 [6:00:05<6:45:39, 324.52s/it]"
     ]
    },
    {
     "name": "stdout",
     "output_type": "stream",
     "text": [
      "[DDQN] improvement=-0.063118 diversity=2.5215 reward=-100\n",
      "[DDQN] state=('Increased', 'VHD') -> action p_m=0.00, p_c=0.50\n"
     ]
    },
    {
     "name": "stderr",
     "output_type": "stream",
     "text": [
      "Training DDQN:  51%|█████████         | 76/150 [6:05:22<6:37:33, 322.34s/it]"
     ]
    },
    {
     "name": "stdout",
     "output_type": "stream",
     "text": [
      "[DDQN] improvement=0.074704 diversity=1.7053 reward=200\n",
      "[DDQN] state=('VHC', 'VHD') -> action p_m=1.00, p_c=0.50\n"
     ]
    },
    {
     "name": "stderr",
     "output_type": "stream",
     "text": [
      "Training DDQN:  51%|█████████▏        | 77/150 [6:10:36<6:29:14, 319.93s/it]"
     ]
    },
    {
     "name": "stdout",
     "output_type": "stream",
     "text": [
      "[DDQN] improvement=-0.006620 diversity=5.7505 reward=-100\n",
      "[DDQN] state=('Increased', 'VHD') -> action p_m=1.00, p_c=1.00\n"
     ]
    },
    {
     "name": "stderr",
     "output_type": "stream",
     "text": [
      "Training DDQN:  52%|█████████▎        | 78/150 [6:15:52<6:22:22, 318.64s/it]"
     ]
    },
    {
     "name": "stdout",
     "output_type": "stream",
     "text": [
      "[DDQN] improvement=-0.078464 diversity=3.9988 reward=-100\n",
      "[DDQN] state=('Increased', 'VHD') -> action p_m=0.00, p_c=0.00\n"
     ]
    },
    {
     "name": "stderr",
     "output_type": "stream",
     "text": [
      "Training DDQN:  53%|█████████▍        | 79/150 [6:21:25<6:22:16, 323.05s/it]"
     ]
    },
    {
     "name": "stdout",
     "output_type": "stream",
     "text": [
      "[DDQN] improvement=0.080844 diversity=0.0000 reward=25\n",
      "[DDQN] state=('VHC', 'VLD') -> action p_m=0.75, p_c=0.00\n"
     ]
    },
    {
     "name": "stderr",
     "output_type": "stream",
     "text": [
      "Training DDQN:  53%|█████████▌        | 80/150 [6:26:33<6:11:31, 318.45s/it]"
     ]
    },
    {
     "name": "stdout",
     "output_type": "stream",
     "text": [
      "[DDQN] improvement=-0.033823 diversity=3.8944 reward=-100\n",
      "[DDQN] state=('Increased', 'VHD') -> action p_m=0.50, p_c=0.00\n"
     ]
    },
    {
     "name": "stderr",
     "output_type": "stream",
     "text": [
      "Training DDQN:  54%|█████████▋        | 81/150 [6:31:43<6:03:10, 315.81s/it]"
     ]
    },
    {
     "name": "stdout",
     "output_type": "stream",
     "text": [
      "[DDQN] improvement=0.086434 diversity=3.2544 reward=200\n",
      "[DDQN] state=('VHC', 'VHD') -> action p_m=0.25, p_c=0.75\n"
     ]
    },
    {
     "name": "stderr",
     "output_type": "stream",
     "text": [
      "Training DDQN:  55%|█████████▊        | 82/150 [6:36:57<5:57:26, 315.39s/it]"
     ]
    },
    {
     "name": "stdout",
     "output_type": "stream",
     "text": [
      "[DDQN] improvement=-0.058024 diversity=2.2780 reward=-100\n",
      "[DDQN] state=('Increased', 'VHD') -> action p_m=0.50, p_c=0.50\n"
     ]
    },
    {
     "name": "stderr",
     "output_type": "stream",
     "text": [
      "Training DDQN:  55%|█████████▉        | 83/150 [6:42:10<5:51:16, 314.57s/it]"
     ]
    },
    {
     "name": "stdout",
     "output_type": "stream",
     "text": [
      "[DDQN] improvement=0.024825 diversity=3.2001 reward=200\n",
      "[DDQN] state=('VHC', 'VHD') -> action p_m=0.00, p_c=0.75\n"
     ]
    },
    {
     "name": "stderr",
     "output_type": "stream",
     "text": [
      "Training DDQN:  56%|██████████        | 84/150 [6:47:24<5:45:47, 314.36s/it]"
     ]
    },
    {
     "name": "stdout",
     "output_type": "stream",
     "text": [
      "[DDQN] improvement=-0.007808 diversity=2.7199 reward=-100\n",
      "[DDQN] state=('Increased', 'VHD') -> action p_m=0.00, p_c=1.00\n"
     ]
    },
    {
     "name": "stderr",
     "output_type": "stream",
     "text": [
      "Training DDQN:  57%|██████████▏       | 85/150 [6:52:40<5:41:12, 314.96s/it]"
     ]
    },
    {
     "name": "stdout",
     "output_type": "stream",
     "text": [
      "[DDQN] improvement=-0.006890 diversity=0.5405 reward=-200\n",
      "[DDQN] state=('Increased', 'MD') -> action p_m=0.00, p_c=0.25\n"
     ]
    },
    {
     "name": "stderr",
     "output_type": "stream",
     "text": [
      "Training DDQN:  57%|██████████▎       | 86/150 [6:58:01<5:37:59, 316.86s/it]"
     ]
    },
    {
     "name": "stdout",
     "output_type": "stream",
     "text": [
      "[DDQN] improvement=-0.007657 diversity=1.9987 reward=-100\n",
      "[DDQN] state=('Increased', 'VHD') -> action p_m=0.50, p_c=0.25\n"
     ]
    },
    {
     "name": "stderr",
     "output_type": "stream",
     "text": [
      "Training DDQN:  58%|██████████▍       | 87/150 [7:03:16<5:32:10, 316.36s/it]"
     ]
    },
    {
     "name": "stdout",
     "output_type": "stream",
     "text": [
      "[DDQN] improvement=-0.000776 diversity=4.8935 reward=-100\n",
      "[DDQN] state=('Increased', 'VHD') -> action p_m=0.00, p_c=0.00\n"
     ]
    },
    {
     "name": "stderr",
     "output_type": "stream",
     "text": [
      "Training DDQN:  59%|██████████▌       | 88/150 [7:08:27<5:25:03, 314.57s/it]"
     ]
    },
    {
     "name": "stdout",
     "output_type": "stream",
     "text": [
      "[DDQN] improvement=-0.003109 diversity=0.0000 reward=-300\n",
      "[DDQN] state=('Increased', 'VLD') -> action p_m=0.75, p_c=0.00\n"
     ]
    },
    {
     "name": "stderr",
     "output_type": "stream",
     "text": [
      "Training DDQN:  59%|██████████▋       | 89/150 [7:13:42<5:20:04, 314.83s/it]"
     ]
    },
    {
     "name": "stdout",
     "output_type": "stream",
     "text": [
      "[DDQN] improvement=-0.002278 diversity=5.5530 reward=-100\n",
      "[DDQN] state=('Increased', 'VHD') -> action p_m=0.25, p_c=0.25\n"
     ]
    },
    {
     "name": "stderr",
     "output_type": "stream",
     "text": [
      "Training DDQN:  60%|██████████▊       | 90/150 [7:18:55<5:14:03, 314.06s/it]"
     ]
    },
    {
     "name": "stdout",
     "output_type": "stream",
     "text": [
      "[DDQN] improvement=0.014990 diversity=5.4830 reward=200\n",
      "[DDQN] state=('VHC', 'VHD') -> action p_m=0.25, p_c=0.75\n"
     ]
    },
    {
     "name": "stderr",
     "output_type": "stream",
     "text": [
      "Training DDQN:  61%|██████████▉       | 91/150 [7:24:11<5:09:40, 314.92s/it]"
     ]
    },
    {
     "name": "stdout",
     "output_type": "stream",
     "text": [
      "[DDQN] improvement=0.032732 diversity=2.7656 reward=200\n",
      "[DDQN] state=('VHC', 'VHD') -> action p_m=0.75, p_c=0.75\n"
     ]
    },
    {
     "name": "stderr",
     "output_type": "stream",
     "text": [
      "Training DDQN:  61%|███████████       | 92/150 [7:29:28<5:04:57, 315.47s/it]"
     ]
    },
    {
     "name": "stdout",
     "output_type": "stream",
     "text": [
      "[DDQN] improvement=-0.071684 diversity=4.2657 reward=-100\n",
      "[DDQN] state=('Increased', 'VHD') -> action p_m=1.00, p_c=0.25\n"
     ]
    },
    {
     "name": "stderr",
     "output_type": "stream",
     "text": [
      "Training DDQN:  62%|███████████▏      | 93/150 [7:34:47<5:00:45, 316.58s/it]"
     ]
    },
    {
     "name": "stdout",
     "output_type": "stream",
     "text": [
      "[DDQN] improvement=0.037759 diversity=5.7554 reward=200\n",
      "[DDQN] state=('VHC', 'VHD') -> action p_m=0.00, p_c=0.75\n"
     ]
    },
    {
     "name": "stderr",
     "output_type": "stream",
     "text": [
      "Training DDQN:  63%|███████████▎      | 94/150 [7:40:02<4:54:56, 316.02s/it]"
     ]
    },
    {
     "name": "stdout",
     "output_type": "stream",
     "text": [
      "[DDQN] improvement=0.019778 diversity=0.7850 reward=150\n",
      "[DDQN] state=('VHC', 'HD') -> action p_m=0.25, p_c=0.75\n"
     ]
    },
    {
     "name": "stderr",
     "output_type": "stream",
     "text": [
      "Training DDQN:  63%|███████████▍      | 95/150 [7:45:19<4:49:54, 316.27s/it]"
     ]
    },
    {
     "name": "stdout",
     "output_type": "stream",
     "text": [
      "[DDQN] improvement=-0.014236 diversity=5.6570 reward=-100\n",
      "[DDQN] state=('Increased', 'VHD') -> action p_m=0.75, p_c=0.00\n"
     ]
    },
    {
     "name": "stderr",
     "output_type": "stream",
     "text": [
      "Training DDQN:  64%|███████████▌      | 96/150 [7:50:34<4:44:14, 315.82s/it]"
     ]
    },
    {
     "name": "stdout",
     "output_type": "stream",
     "text": [
      "[DDQN] improvement=0.006766 diversity=10.7911 reward=200\n",
      "[DDQN] state=('VHC', 'VHD') -> action p_m=0.25, p_c=0.75\n"
     ]
    },
    {
     "name": "stderr",
     "output_type": "stream",
     "text": [
      "Training DDQN:  65%|███████████▋      | 97/150 [7:55:49<4:38:46, 315.59s/it]"
     ]
    },
    {
     "name": "stdout",
     "output_type": "stream",
     "text": [
      "[DDQN] improvement=0.003145 diversity=3.4904 reward=150\n",
      "[DDQN] state=('HC', 'VHD') -> action p_m=1.00, p_c=0.25\n"
     ]
    },
    {
     "name": "stderr",
     "output_type": "stream",
     "text": [
      "Training DDQN:  65%|███████████▊      | 98/150 [8:01:00<4:32:17, 314.18s/it]"
     ]
    },
    {
     "name": "stdout",
     "output_type": "stream",
     "text": [
      "[DDQN] improvement=-0.081981 diversity=6.2013 reward=-100\n",
      "[DDQN] state=('Increased', 'VHD') -> action p_m=0.50, p_c=0.50\n"
     ]
    },
    {
     "name": "stderr",
     "output_type": "stream",
     "text": [
      "Training DDQN:  66%|███████████▉      | 99/150 [8:06:03<4:24:22, 311.02s/it]"
     ]
    },
    {
     "name": "stdout",
     "output_type": "stream",
     "text": [
      "[DDQN] improvement=0.097450 diversity=5.0800 reward=200\n",
      "[DDQN] state=('VHC', 'VHD') -> action p_m=0.75, p_c=1.00\n"
     ]
    },
    {
     "name": "stderr",
     "output_type": "stream",
     "text": [
      "Training DDQN:  67%|███████████▎     | 100/150 [8:11:14<4:19:07, 310.95s/it]"
     ]
    },
    {
     "name": "stdout",
     "output_type": "stream",
     "text": [
      "[DDQN] improvement=-0.085208 diversity=4.1236 reward=-100\n",
      "[DDQN] state=('Increased', 'VHD') -> action p_m=1.00, p_c=0.00\n"
     ]
    },
    {
     "name": "stderr",
     "output_type": "stream",
     "text": [
      "Training DDQN:  67%|███████████▍     | 101/150 [8:16:34<4:16:02, 313.53s/it]"
     ]
    },
    {
     "name": "stdout",
     "output_type": "stream",
     "text": [
      "[DDQN] improvement=0.064102 diversity=7.6180 reward=200\n",
      "[DDQN] state=('VHC', 'VHD') -> action p_m=0.50, p_c=0.25\n"
     ]
    },
    {
     "name": "stderr",
     "output_type": "stream",
     "text": [
      "Training DDQN:  68%|███████████▌     | 102/150 [8:21:52<4:11:59, 314.99s/it]"
     ]
    },
    {
     "name": "stdout",
     "output_type": "stream",
     "text": [
      "[DDQN] improvement=-0.007716 diversity=3.4670 reward=-100\n",
      "[DDQN] state=('Increased', 'VHD') -> action p_m=0.50, p_c=0.50\n"
     ]
    },
    {
     "name": "stderr",
     "output_type": "stream",
     "text": [
      "Training DDQN:  69%|███████████▋     | 103/150 [8:27:11<4:07:35, 316.08s/it]"
     ]
    },
    {
     "name": "stdout",
     "output_type": "stream",
     "text": [
      "[DDQN] improvement=0.038270 diversity=5.6088 reward=200\n",
      "[DDQN] state=('VHC', 'VHD') -> action p_m=0.50, p_c=0.75\n"
     ]
    },
    {
     "name": "stderr",
     "output_type": "stream",
     "text": [
      "Training DDQN:  69%|███████████▊     | 104/150 [8:32:28<4:02:30, 316.31s/it]"
     ]
    },
    {
     "name": "stdout",
     "output_type": "stream",
     "text": [
      "[DDQN] improvement=-0.008132 diversity=5.9028 reward=-100\n",
      "[DDQN] state=('Increased', 'VHD') -> action p_m=0.50, p_c=0.50\n"
     ]
    },
    {
     "name": "stderr",
     "output_type": "stream",
     "text": [
      "Training DDQN:  70%|███████████▉     | 105/150 [8:37:49<3:58:24, 317.88s/it]"
     ]
    },
    {
     "name": "stdout",
     "output_type": "stream",
     "text": [
      "[DDQN] improvement=-0.014894 diversity=5.2201 reward=-100\n",
      "[DDQN] state=('Increased', 'VHD') -> action p_m=0.75, p_c=0.50\n"
     ]
    },
    {
     "name": "stderr",
     "output_type": "stream",
     "text": [
      "Training DDQN:  71%|████████████     | 106/150 [8:42:55<3:50:28, 314.27s/it]"
     ]
    },
    {
     "name": "stdout",
     "output_type": "stream",
     "text": [
      "[DDQN] improvement=-0.060945 diversity=3.9183 reward=-100\n",
      "[DDQN] state=('Increased', 'VHD') -> action p_m=0.25, p_c=0.00\n"
     ]
    },
    {
     "name": "stderr",
     "output_type": "stream",
     "text": [
      "Training DDQN:  71%|████████████▏    | 107/150 [8:48:18<3:47:04, 316.86s/it]"
     ]
    },
    {
     "name": "stdout",
     "output_type": "stream",
     "text": [
      "[DDQN] improvement=0.050771 diversity=3.0232 reward=200\n",
      "[DDQN] state=('VHC', 'VHD') -> action p_m=0.25, p_c=0.75\n"
     ]
    },
    {
     "name": "stderr",
     "output_type": "stream",
     "text": [
      "Training DDQN:  72%|████████████▏    | 108/150 [8:53:50<3:44:55, 321.31s/it]"
     ]
    },
    {
     "name": "stdout",
     "output_type": "stream",
     "text": [
      "[DDQN] improvement=-0.014451 diversity=3.0867 reward=-100\n",
      "[DDQN] state=('Increased', 'VHD') -> action p_m=0.50, p_c=0.50\n"
     ]
    },
    {
     "name": "stderr",
     "output_type": "stream",
     "text": [
      "Training DDQN:  73%|████████████▎    | 109/150 [8:58:48<3:34:51, 314.42s/it]"
     ]
    },
    {
     "name": "stdout",
     "output_type": "stream",
     "text": [
      "[DDQN] improvement=-0.003737 diversity=4.1710 reward=-100\n",
      "[DDQN] state=('Increased', 'VHD') -> action p_m=0.50, p_c=0.75\n"
     ]
    },
    {
     "name": "stderr",
     "output_type": "stream",
     "text": [
      "Training DDQN:  73%|████████████▍    | 110/150 [9:03:48<3:26:41, 310.04s/it]"
     ]
    },
    {
     "name": "stdout",
     "output_type": "stream",
     "text": [
      "[DDQN] improvement=-0.019015 diversity=5.6717 reward=-100\n",
      "[DDQN] state=('Increased', 'VHD') -> action p_m=0.50, p_c=0.50\n"
     ]
    },
    {
     "name": "stderr",
     "output_type": "stream",
     "text": [
      "Training DDQN:  74%|████████████▌    | 111/150 [9:08:57<3:21:26, 309.92s/it]"
     ]
    },
    {
     "name": "stdout",
     "output_type": "stream",
     "text": [
      "[DDQN] improvement=0.046365 diversity=8.2718 reward=200\n",
      "[DDQN] state=('VHC', 'VHD') -> action p_m=0.25, p_c=0.75\n"
     ]
    },
    {
     "name": "stderr",
     "output_type": "stream",
     "text": [
      "Training DDQN:  75%|████████████▋    | 112/150 [9:14:02<3:15:11, 308.20s/it]"
     ]
    },
    {
     "name": "stdout",
     "output_type": "stream",
     "text": [
      "[DDQN] improvement=0.030116 diversity=3.0868 reward=200\n",
      "[DDQN] state=('VHC', 'VHD') -> action p_m=0.25, p_c=0.75\n"
     ]
    },
    {
     "name": "stderr",
     "output_type": "stream",
     "text": [
      "Training DDQN:  75%|████████████▊    | 113/150 [9:19:17<3:11:21, 310.31s/it]"
     ]
    },
    {
     "name": "stdout",
     "output_type": "stream",
     "text": [
      "[DDQN] improvement=-0.005797 diversity=6.8790 reward=-100\n",
      "[DDQN] state=('Increased', 'VHD') -> action p_m=0.00, p_c=0.00\n"
     ]
    },
    {
     "name": "stderr",
     "output_type": "stream",
     "text": [
      "Training DDQN:  76%|████████████▉    | 114/150 [9:24:36<3:07:43, 312.87s/it]"
     ]
    },
    {
     "name": "stdout",
     "output_type": "stream",
     "text": [
      "[DDQN] improvement=-0.005266 diversity=0.0000 reward=-300\n",
      "[DDQN] state=('Increased', 'VLD') -> action p_m=0.25, p_c=1.00\n"
     ]
    },
    {
     "name": "stderr",
     "output_type": "stream",
     "text": [
      "Training DDQN:  77%|█████████████    | 115/150 [9:29:52<3:03:09, 313.98s/it]"
     ]
    },
    {
     "name": "stdout",
     "output_type": "stream",
     "text": [
      "[DDQN] improvement=-0.046113 diversity=3.9256 reward=-100\n",
      "[DDQN] state=('Increased', 'VHD') -> action p_m=0.50, p_c=0.50\n"
     ]
    },
    {
     "name": "stderr",
     "output_type": "stream",
     "text": [
      "Training DDQN:  77%|█████████████▏   | 116/150 [9:34:54<2:55:49, 310.27s/it]"
     ]
    },
    {
     "name": "stdout",
     "output_type": "stream",
     "text": [
      "[DDQN] improvement=-0.057173 diversity=3.8839 reward=-100\n",
      "[DDQN] state=('Increased', 'VHD') -> action p_m=0.50, p_c=0.50\n"
     ]
    },
    {
     "name": "stderr",
     "output_type": "stream",
     "text": [
      "Training DDQN:  78%|█████████████▎   | 117/150 [9:40:07<2:51:07, 311.14s/it]"
     ]
    },
    {
     "name": "stdout",
     "output_type": "stream",
     "text": [
      "[DDQN] improvement=0.072005 diversity=5.9503 reward=200\n",
      "[DDQN] state=('VHC', 'VHD') -> action p_m=0.00, p_c=0.75\n"
     ]
    },
    {
     "name": "stderr",
     "output_type": "stream",
     "text": [
      "Training DDQN:  79%|█████████████▎   | 118/150 [9:45:32<2:48:08, 315.28s/it]"
     ]
    },
    {
     "name": "stdout",
     "output_type": "stream",
     "text": [
      "[DDQN] improvement=0.002342 diversity=4.2456 reward=100\n",
      "[DDQN] state=('LC', 'VHD') -> action p_m=0.25, p_c=0.75\n"
     ]
    },
    {
     "name": "stderr",
     "output_type": "stream",
     "text": [
      "Training DDQN:  79%|█████████████▍   | 119/150 [9:51:02<2:45:13, 319.80s/it]"
     ]
    },
    {
     "name": "stdout",
     "output_type": "stream",
     "text": [
      "[DDQN] improvement=-0.000210 diversity=4.2666 reward=-100\n",
      "[DDQN] state=('Increased', 'VHD') -> action p_m=0.50, p_c=0.50\n"
     ]
    },
    {
     "name": "stderr",
     "output_type": "stream",
     "text": [
      "Training DDQN:  80%|█████████████▌   | 120/150 [9:56:25<2:40:21, 320.71s/it]"
     ]
    },
    {
     "name": "stdout",
     "output_type": "stream",
     "text": [
      "[DDQN] improvement=-0.018415 diversity=9.0453 reward=-100\n",
      "[DDQN] state=('Increased', 'VHD') -> action p_m=0.50, p_c=0.25\n"
     ]
    },
    {
     "name": "stderr",
     "output_type": "stream",
     "text": [
      "Training DDQN:  81%|████████████▉   | 121/150 [10:01:59<2:36:58, 324.77s/it]"
     ]
    },
    {
     "name": "stdout",
     "output_type": "stream",
     "text": [
      "[DDQN] improvement=0.010296 diversity=6.3445 reward=200\n",
      "[DDQN] state=('VHC', 'VHD') -> action p_m=0.75, p_c=0.50\n"
     ]
    },
    {
     "name": "stderr",
     "output_type": "stream",
     "text": [
      "Training DDQN:  81%|█████████████   | 122/150 [10:07:33<2:32:46, 327.36s/it]"
     ]
    },
    {
     "name": "stdout",
     "output_type": "stream",
     "text": [
      "[DDQN] improvement=-0.040226 diversity=6.2452 reward=-100\n",
      "[DDQN] state=('Increased', 'VHD') -> action p_m=0.50, p_c=0.50\n"
     ]
    },
    {
     "name": "stderr",
     "output_type": "stream",
     "text": [
      "Training DDQN:  82%|█████████████   | 123/150 [10:13:08<2:28:22, 329.73s/it]"
     ]
    },
    {
     "name": "stdout",
     "output_type": "stream",
     "text": [
      "[DDQN] improvement=0.035582 diversity=5.2573 reward=200\n",
      "[DDQN] state=('VHC', 'VHD') -> action p_m=0.25, p_c=0.75\n"
     ]
    },
    {
     "name": "stderr",
     "output_type": "stream",
     "text": [
      "Training DDQN:  83%|█████████████▏  | 124/150 [10:19:09<2:26:55, 339.07s/it]"
     ]
    },
    {
     "name": "stdout",
     "output_type": "stream",
     "text": [
      "[DDQN] improvement=0.006486 diversity=3.6166 reward=200\n",
      "[DDQN] state=('VHC', 'VHD') -> action p_m=1.00, p_c=0.50\n"
     ]
    },
    {
     "name": "stderr",
     "output_type": "stream",
     "text": [
      "Training DDQN:  83%|█████████████▎  | 125/150 [10:25:41<2:27:56, 355.07s/it]"
     ]
    },
    {
     "name": "stdout",
     "output_type": "stream",
     "text": [
      "[DDQN] improvement=-0.026526 diversity=5.3663 reward=-100\n",
      "[DDQN] state=('Increased', 'VHD') -> action p_m=1.00, p_c=0.50\n"
     ]
    },
    {
     "name": "stderr",
     "output_type": "stream",
     "text": [
      "Training DDQN:  84%|█████████████▍  | 126/150 [10:32:10<2:26:04, 365.17s/it]"
     ]
    },
    {
     "name": "stdout",
     "output_type": "stream",
     "text": [
      "[DDQN] improvement=0.016764 diversity=3.8772 reward=200\n",
      "[DDQN] state=('VHC', 'VHD') -> action p_m=0.25, p_c=0.75\n"
     ]
    },
    {
     "name": "stderr",
     "output_type": "stream",
     "text": [
      "Training DDQN:  85%|█████████████▌  | 127/150 [10:38:33<2:22:00, 370.45s/it]"
     ]
    },
    {
     "name": "stdout",
     "output_type": "stream",
     "text": [
      "[DDQN] improvement=-0.025463 diversity=4.4043 reward=-100\n",
      "[DDQN] state=('Increased', 'VHD') -> action p_m=0.50, p_c=0.50\n"
     ]
    },
    {
     "name": "stderr",
     "output_type": "stream",
     "text": [
      "Training DDQN:  85%|█████████████▋  | 128/150 [10:44:51<2:16:38, 372.68s/it]"
     ]
    },
    {
     "name": "stdout",
     "output_type": "stream",
     "text": [
      "[DDQN] improvement=0.007171 diversity=3.5170 reward=200\n",
      "[DDQN] state=('VHC', 'VHD') -> action p_m=0.50, p_c=0.00\n"
     ]
    },
    {
     "name": "stderr",
     "output_type": "stream",
     "text": [
      "Training DDQN:  86%|█████████████▊  | 129/150 [10:51:07<2:10:51, 373.87s/it]"
     ]
    },
    {
     "name": "stdout",
     "output_type": "stream",
     "text": [
      "[DDQN] improvement=0.080116 diversity=4.6768 reward=200\n",
      "[DDQN] state=('VHC', 'VHD') -> action p_m=0.50, p_c=0.25\n"
     ]
    },
    {
     "name": "stderr",
     "output_type": "stream",
     "text": [
      "Training DDQN:  87%|█████████████▊  | 130/150 [10:57:53<2:07:47, 383.37s/it]"
     ]
    },
    {
     "name": "stdout",
     "output_type": "stream",
     "text": [
      "[DDQN] improvement=-0.029096 diversity=4.2084 reward=-100\n",
      "[DDQN] state=('Increased', 'VHD') -> action p_m=0.25, p_c=0.00\n"
     ]
    },
    {
     "name": "stderr",
     "output_type": "stream",
     "text": [
      "Training DDQN:  87%|█████████████▉  | 131/150 [11:04:30<2:02:45, 387.65s/it]"
     ]
    },
    {
     "name": "stdout",
     "output_type": "stream",
     "text": [
      "[DDQN] improvement=-0.065689 diversity=2.6803 reward=-100\n",
      "[DDQN] state=('Increased', 'VHD') -> action p_m=0.50, p_c=0.50\n"
     ]
    },
    {
     "name": "stderr",
     "output_type": "stream",
     "text": [
      "Training DDQN:  88%|██████████████  | 132/150 [11:11:01<1:56:32, 388.47s/it]"
     ]
    },
    {
     "name": "stdout",
     "output_type": "stream",
     "text": [
      "[DDQN] improvement=0.012824 diversity=4.8588 reward=200\n",
      "[DDQN] state=('VHC', 'VHD') -> action p_m=0.75, p_c=1.00\n"
     ]
    },
    {
     "name": "stderr",
     "output_type": "stream",
     "text": [
      "Training DDQN:  89%|██████████████▏ | 133/150 [11:17:26<1:49:49, 387.59s/it]"
     ]
    },
    {
     "name": "stdout",
     "output_type": "stream",
     "text": [
      "[DDQN] improvement=0.018287 diversity=6.7576 reward=200\n",
      "[DDQN] state=('VHC', 'VHD') -> action p_m=0.25, p_c=0.75\n"
     ]
    },
    {
     "name": "stderr",
     "output_type": "stream",
     "text": [
      "Training DDQN:  89%|██████████████▎ | 134/150 [11:23:54<1:43:20, 387.51s/it]"
     ]
    },
    {
     "name": "stdout",
     "output_type": "stream",
     "text": [
      "[DDQN] improvement=-0.027889 diversity=2.7358 reward=-100\n",
      "[DDQN] state=('Increased', 'VHD') -> action p_m=0.75, p_c=0.25\n"
     ]
    },
    {
     "name": "stderr",
     "output_type": "stream",
     "text": [
      "Training DDQN:  90%|██████████████▍ | 135/150 [11:30:35<1:37:53, 391.59s/it]"
     ]
    },
    {
     "name": "stdout",
     "output_type": "stream",
     "text": [
      "[DDQN] improvement=-0.003066 diversity=5.1281 reward=-100\n",
      "[DDQN] state=('Increased', 'VHD') -> action p_m=0.50, p_c=0.50\n"
     ]
    },
    {
     "name": "stderr",
     "output_type": "stream",
     "text": [
      "Training DDQN:  91%|██████████████▌ | 136/150 [11:37:09<1:31:34, 392.47s/it]"
     ]
    },
    {
     "name": "stdout",
     "output_type": "stream",
     "text": [
      "[DDQN] improvement=0.015820 diversity=4.9814 reward=200\n",
      "[DDQN] state=('VHC', 'VHD') -> action p_m=0.25, p_c=0.75\n"
     ]
    },
    {
     "name": "stderr",
     "output_type": "stream",
     "text": [
      "Training DDQN:  91%|██████████████▌ | 137/150 [11:43:51<1:25:38, 395.24s/it]"
     ]
    },
    {
     "name": "stdout",
     "output_type": "stream",
     "text": [
      "[DDQN] improvement=0.000957 diversity=2.7724 reward=-100\n",
      "[DDQN] state=('Increased', 'VHD') -> action p_m=1.00, p_c=0.00\n"
     ]
    },
    {
     "name": "stderr",
     "output_type": "stream",
     "text": [
      "Training DDQN:  92%|██████████████▋ | 138/150 [11:50:38<1:19:46, 398.89s/it]"
     ]
    },
    {
     "name": "stdout",
     "output_type": "stream",
     "text": [
      "[DDQN] improvement=0.039517 diversity=4.6188 reward=200\n",
      "[DDQN] state=('VHC', 'VHD') -> action p_m=0.25, p_c=1.00\n"
     ]
    },
    {
     "name": "stderr",
     "output_type": "stream",
     "text": [
      "Training DDQN:  93%|██████████████▊ | 139/150 [11:57:34<1:14:02, 403.85s/it]"
     ]
    },
    {
     "name": "stdout",
     "output_type": "stream",
     "text": [
      "[DDQN] improvement=-0.015862 diversity=3.5896 reward=-100\n",
      "[DDQN] state=('Increased', 'VHD') -> action p_m=1.00, p_c=0.75\n"
     ]
    },
    {
     "name": "stderr",
     "output_type": "stream",
     "text": [
      "Training DDQN:  93%|██████████████▉ | 140/150 [12:04:54<1:09:08, 414.88s/it]"
     ]
    },
    {
     "name": "stdout",
     "output_type": "stream",
     "text": [
      "[DDQN] improvement=-0.025610 diversity=7.1168 reward=-100\n",
      "[DDQN] state=('Increased', 'VHD') -> action p_m=0.00, p_c=0.25\n"
     ]
    },
    {
     "name": "stderr",
     "output_type": "stream",
     "text": [
      "Training DDQN:  94%|███████████████ | 141/150 [12:11:52<1:02:20, 415.58s/it]"
     ]
    },
    {
     "name": "stdout",
     "output_type": "stream",
     "text": [
      "[DDQN] improvement=0.000514 diversity=0.0000 reward=-300\n",
      "[DDQN] state=('Increased', 'VLD') -> action p_m=0.25, p_c=0.75\n"
     ]
    },
    {
     "name": "stderr",
     "output_type": "stream",
     "text": [
      "Training DDQN:  95%|█████████████████ | 142/150 [12:18:28<54:37, 409.70s/it]"
     ]
    },
    {
     "name": "stdout",
     "output_type": "stream",
     "text": [
      "[DDQN] improvement=0.044051 diversity=4.0247 reward=200\n",
      "[DDQN] state=('VHC', 'VHD') -> action p_m=0.25, p_c=0.75\n"
     ]
    },
    {
     "name": "stderr",
     "output_type": "stream",
     "text": [
      "Training DDQN:  95%|█████████████████▏| 143/150 [12:23:24<43:49, 375.68s/it]"
     ]
    },
    {
     "name": "stdout",
     "output_type": "stream",
     "text": [
      "[DDQN] improvement=-0.044314 diversity=3.2257 reward=-100\n",
      "[DDQN] state=('Increased', 'VHD') -> action p_m=0.50, p_c=0.50\n"
     ]
    },
    {
     "name": "stderr",
     "output_type": "stream",
     "text": [
      "Training DDQN:  96%|█████████████████▎| 144/150 [12:28:20<35:09, 351.63s/it]"
     ]
    },
    {
     "name": "stdout",
     "output_type": "stream",
     "text": [
      "[DDQN] improvement=0.000455 diversity=6.7275 reward=-100\n",
      "[DDQN] state=('Increased', 'VHD') -> action p_m=0.00, p_c=0.50\n"
     ]
    },
    {
     "name": "stderr",
     "output_type": "stream",
     "text": [
      "Training DDQN:  97%|█████████████████▍| 145/150 [12:33:28<28:12, 338.55s/it]"
     ]
    },
    {
     "name": "stdout",
     "output_type": "stream",
     "text": [
      "[DDQN] improvement=0.000372 diversity=0.7404 reward=-150\n",
      "[DDQN] state=('Increased', 'HD') -> action p_m=0.25, p_c=0.75\n"
     ]
    },
    {
     "name": "stderr",
     "output_type": "stream",
     "text": [
      "Training DDQN:  97%|█████████████████▌| 146/150 [12:38:25<21:45, 326.28s/it]"
     ]
    },
    {
     "name": "stdout",
     "output_type": "stream",
     "text": [
      "[DDQN] improvement=-0.007954 diversity=4.7226 reward=-100\n",
      "[DDQN] state=('Increased', 'VHD') -> action p_m=0.50, p_c=0.50\n"
     ]
    },
    {
     "name": "stderr",
     "output_type": "stream",
     "text": [
      "Training DDQN:  98%|█████████████████▋| 147/150 [12:43:27<15:57, 319.06s/it]"
     ]
    },
    {
     "name": "stdout",
     "output_type": "stream",
     "text": [
      "[DDQN] improvement=0.011491 diversity=3.7188 reward=200\n",
      "[DDQN] state=('VHC', 'VHD') -> action p_m=0.25, p_c=0.75\n"
     ]
    },
    {
     "name": "stderr",
     "output_type": "stream",
     "text": [
      "Training DDQN:  99%|█████████████████▊| 148/150 [12:48:27<10:26, 313.24s/it]"
     ]
    },
    {
     "name": "stdout",
     "output_type": "stream",
     "text": [
      "[DDQN] improvement=-0.014949 diversity=3.2645 reward=-100\n",
      "[DDQN] state=('Increased', 'VHD') -> action p_m=0.50, p_c=0.50\n"
     ]
    },
    {
     "name": "stderr",
     "output_type": "stream",
     "text": [
      "Training DDQN:  99%|█████████████████▉| 149/150 [12:53:27<05:09, 309.27s/it]"
     ]
    },
    {
     "name": "stdout",
     "output_type": "stream",
     "text": [
      "[DDQN] improvement=0.006108 diversity=5.2442 reward=200\n",
      "[DDQN] state=('VHC', 'VHD') -> action p_m=0.25, p_c=0.75\n"
     ]
    },
    {
     "name": "stderr",
     "output_type": "stream",
     "text": [
      "Training DDQN: 100%|██████████████████| 150/150 [12:58:27<00:00, 311.38s/it]"
     ]
    },
    {
     "name": "stdout",
     "output_type": "stream",
     "text": [
      "[DDQN] improvement=0.021031 diversity=4.3303 reward=200\n"
     ]
    },
    {
     "name": "stderr",
     "output_type": "stream",
     "text": [
      "\n"
     ]
    },
    {
     "name": "stdout",
     "output_type": "stream",
     "text": [
      "\n",
      "[FCM] iter=0\n",
      "[DDQN] state=('Stalled', 'VHD') -> action p_m=0.00, p_c=0.00\n",
      "[DDQN] improvement=0.000000 diversity=0.0000 reward=-30\n",
      "[FCM] J=5.830140  Δ=inf  bw[0..3]=[7.5336202  6.62755648 0.98122294]\n",
      "\n",
      "[FCM] iter=1\n",
      "[DDQN] state=('Stalled', 'VLD') -> action p_m=0.50, p_c=0.50\n",
      "[DDQN] improvement=0.000000 diversity=4.9889 reward=0\n",
      "[FCM] J=0.286692  Δ=5.543e+00  bw[0..3]=[ 7.23128742 16.90996263  1.        ]\n",
      "\n",
      "[FCM] iter=2\n",
      "[DDQN] state=('Stalled', 'VHD') -> action p_m=0.50, p_c=0.50\n",
      "[DDQN] improvement=0.000000 diversity=5.2896 reward=0\n",
      "[FCM] J=0.172898  Δ=1.138e-01  bw[0..3]=[ 6.57894944 24.19118623  1.        ]\n",
      "\n",
      "[FCM] iter=3\n",
      "[DDQN] state=('Stalled', 'VHD') -> action p_m=0.50, p_c=0.50\n",
      "[DDQN] improvement=0.000000 diversity=5.4057 reward=0\n",
      "[FCM] J=0.140804  Δ=3.209e-02  bw[0..3]=[ 9.79147604 18.82859232  1.        ]\n",
      "\n",
      "[FCM] iter=4\n",
      "[DDQN] state=('Stalled', 'VHD') -> action p_m=0.25, p_c=0.50\n",
      "[DDQN] improvement=0.000000 diversity=3.0969 reward=0\n",
      "[FCM] J=0.150307  Δ=9.503e-03  bw[0..3]=[14.77584023 16.70889423  1.        ]\n",
      "\n",
      "[FCM] iter=5\n",
      "[DDQN] state=('Stalled', 'VHD') -> action p_m=0.50, p_c=0.50\n",
      "[DDQN] improvement=0.000000 diversity=3.1515 reward=0\n",
      "[FCM] J=2.963447  Δ=2.813e+00  bw[0..3]=[8.15579635 7.1498389  1.        ]\n",
      "\n",
      "[FCM] iter=6\n",
      "[DDQN] state=('Stalled', 'VHD') -> action p_m=0.50, p_c=0.50\n",
      "[DDQN] improvement=0.000000 diversity=3.2151 reward=0\n",
      "[FCM] J=1.017820  Δ=1.946e+00  bw[0..3]=[ 6.17530647 11.34585165  1.        ]\n",
      "\n",
      "[FCM] iter=7\n",
      "[DDQN] state=('Stalled', 'VHD') -> action p_m=0.50, p_c=0.75\n",
      "[DDQN] improvement=0.000000 diversity=4.1843 reward=0\n",
      "[FCM] J=4.609727  Δ=3.592e+00  bw[0..3]=[2.93516836 9.47024722 1.        ]\n",
      "\n",
      "[FCM] iter=8\n",
      "[DDQN] state=('Stalled', 'VHD') -> action p_m=0.50, p_c=0.50\n",
      "[DDQN] improvement=0.000000 diversity=4.0481 reward=0\n",
      "[FCM] J=0.650138  Δ=3.960e+00  bw[0..3]=[ 8.4626859  11.83479999  1.        ]\n",
      "\n",
      "[FCM] iter=9\n",
      "[DDQN] state=('Stalled', 'VHD') -> action p_m=0.50, p_c=0.50\n",
      "[DDQN] improvement=0.000000 diversity=3.7253 reward=0\n",
      "[FCM] J=0.183798  Δ=4.663e-01  bw[0..3]=[ 9.51616961 17.39217068  1.        ]\n",
      "\n",
      "[FCM] iter=10\n",
      "[DDQN] state=('Stalled', 'VHD') -> action p_m=0.50, p_c=0.75\n",
      "[DDQN] improvement=0.000000 diversity=5.9105 reward=0\n",
      "[FCM] J=0.416301  Δ=2.325e-01  bw[0..3]=[ 8.55707409 13.63473986  1.        ]\n",
      "\n",
      "[FCM] iter=11\n",
      "[DDQN] state=('Stalled', 'VHD') -> action p_m=0.00, p_c=0.50\n",
      "[DDQN] improvement=0.000000 diversity=0.4077 reward=-10\n",
      "[FCM] J=0.412772  Δ=3.529e-03  bw[0..3]=[ 8.6542635  13.63473986  1.        ]\n",
      "\n",
      "[FCM] iter=12\n",
      "[DDQN] state=('Stalled', 'MD') -> action p_m=0.50, p_c=1.00\n",
      "[DDQN] improvement=0.000000 diversity=4.5125 reward=0\n",
      "[FCM] J=0.173373  Δ=2.394e-01  bw[0..3]=[ 6.26370007 27.89125722  1.        ]\n",
      "\n",
      "[FCM] iter=13\n",
      "[DDQN] state=('Stalled', 'VHD') -> action p_m=0.75, p_c=0.25\n",
      "[DDQN] improvement=0.000000 diversity=4.1598 reward=0\n",
      "[FCM] J=0.171759  Δ=1.614e-03  bw[0..3]=[ 6.26370007 27.89125722  1.        ]\n",
      "\n",
      "[FCM] iter=14\n",
      "[DDQN] state=('Stalled', 'VHD') -> action p_m=0.25, p_c=0.75\n",
      "[DDQN] improvement=0.000000 diversity=1.9432 reward=0\n",
      "[FCM] J=7.725139  Δ=7.553e+00  bw[0..3]=[3.15520783 6.64748918 1.        ]\n",
      "\n",
      "[FCM] iter=15\n",
      "[DDQN] state=('Stalled', 'VHD') -> action p_m=1.00, p_c=0.00\n",
      "[DDQN] improvement=0.000000 diversity=6.2833 reward=0\n",
      "[FCM] J=0.362657  Δ=7.362e+00  bw[0..3]=[10.94388304 13.49970206  1.        ]\n",
      "\n",
      "[FCM] iter=16\n",
      "[DDQN] state=('Stalled', 'VHD') -> action p_m=0.50, p_c=0.50\n",
      "[DDQN] improvement=0.000000 diversity=5.6338 reward=0\n",
      "[FCM] J=8.626512  Δ=8.264e+00  bw[0..3]=[ 2.10265633 13.21699779  1.        ]\n",
      "\n",
      "[FCM] iter=17\n",
      "[DDQN] state=('Stalled', 'VHD') -> action p_m=0.25, p_c=0.00\n",
      "[DDQN] improvement=0.000000 diversity=2.7886 reward=0\n",
      "[FCM] J=0.200595  Δ=8.426e+00  bw[0..3]=[ 7.80131905 18.33046421  1.        ]\n",
      "\n",
      "[FCM] iter=18\n",
      "[DDQN] state=('Stalled', 'VHD') -> action p_m=0.50, p_c=0.50\n",
      "[DDQN] improvement=0.000000 diversity=4.3745 reward=0\n",
      "[FCM] J=0.200003  Δ=5.920e-04  bw[0..3]=[16.3861294  15.07510173  1.        ]\n",
      "[FCM] Converged at iter 18\n",
      "[Agent] Saved to ./checkpoints/ddqn_agent.pt\n",
      "\n",
      "=== RESULTS (Your CSVs) ===\n",
      "FARI(U_final, true_post) = 0.758340\n",
      "FARI(U_final, init_U)    = 0.672074\n",
      "Final bandwidth (all): [16.3861294  15.07510173  1.        ]\n",
      "Saved: ./outputs/U_final.csv, ./outputs/V_final.csv, ./outputs/bw_final.csv\n"
     ]
    },
    {
     "data": {
      "image/png": "[encoded data removed]",
      "text/plain": [
       "<Figure size 800x500 with 1 Axes>"
      ]
     },
     "metadata": {},
     "output_type": "display_data"
    }
   ],
   "source": [
    "#!/usr/bin/env python3\n",
    "# rl_ga_kdss_fcm_gpu.py\n",
    "# DDQN + GA bandwidth tuning for KDSS-based FCM on mixed-type data (no R/Colab), GPU/MPS-aware.\n",
    "# Requires: numpy, pandas, torch, matplotlib, tqdm, scipy\n",
    "\n",
    "import os\n",
    "import sys\n",
    "import math\n",
    "import argparse\n",
    "import random\n",
    "from collections import deque\n",
    "from itertools import combinations\n",
    "\n",
    "import numpy as np\n",
    "import pandas as pd\n",
    "from tqdm import tqdm\n",
    "import matplotlib.pyplot as plt\n",
    "\n",
    "# -------------------------\n",
    "# PyTorch (for DDQN)\n",
    "# -------------------------\n",
    "try:\n",
    "    import torch\n",
    "    import torch.nn as nn\n",
    "    import torch.optim as optim\n",
    "except Exception as e:\n",
    "    print(\"ERROR: This script needs PyTorch (torch) for the DDQN agent.\\n\"\n",
    "          \"Install with: pip install torch --index-url https://download.pytorch.org/whl/cpu\", file=sys.stderr)\n",
    "    raise\n",
    "\n",
    "# -------------------------\n",
    "# Device picker (CUDA / MPS / CPU)\n",
    "# -------------------------\n",
    "def pick_device():\n",
    "    if torch.cuda.is_available():\n",
    "        return torch.device(\"cuda\")\n",
    "    if hasattr(torch.backends, \"mps\") and torch.backends.mps.is_available():\n",
    "        return torch.device(\"mps\")\n",
    "    return torch.device(\"cpu\")\n",
    "\n",
    "# -------------------------\n",
    "# Utilities\n",
    "# -------------------------\n",
    "def ensure_dir(path: str):\n",
    "    if path and not os.path.exists(path):\n",
    "        os.makedirs(path, exist_ok=True)\n",
    "\n",
    "def parse_index_list(s):\n",
    "    \"\"\"Parse comma-separated indices like '0,2,5'. Return list[int] or None if empty/None.\"\"\"\n",
    "    if s is None or str(s).strip()==\"\":\n",
    "        return None\n",
    "    return [int(x.strip()) for x in s.split(\",\") if x.strip()!=\"\"]\n",
    "\n",
    "def infer_column_types(df: pd.DataFrame):\n",
    "    \"\"\"\n",
    "    Heuristic:\n",
    "      - float columns -> continuous\n",
    "      - int columns with <= 12 unique values -> ordinal\n",
    "      - object/category -> nominal\n",
    "    \"\"\"\n",
    "    con_idx, fac_idx, ord_idx = [], [], []\n",
    "    for j, col in enumerate(df.columns):\n",
    "        s = df[col]\n",
    "        if pd.api.types.is_float_dtype(s):\n",
    "            con_idx.append(j)\n",
    "        elif pd.api.types.is_integer_dtype(s):\n",
    "            nunq = s.nunique(dropna=True)\n",
    "            if nunq <= 12:\n",
    "                ord_idx.append(j)\n",
    "            else:\n",
    "                con_idx.append(j)  # high-cardinality ints treated as continuous\n",
    "        else:\n",
    "            fac_idx.append(j)\n",
    "    return con_idx, fac_idx, ord_idx\n",
    "\n",
    "def encode_mixed_df(df: pd.DataFrame, fac_idx=None, ord_idx=None) -> pd.DataFrame:\n",
    "    \"\"\"\n",
    "    Encode a mixed-type DataFrame into purely numeric columns:\n",
    "\n",
    "      - Continuous columns: left as-is (but cast to numeric).\n",
    "      - fac_idx (nominal): converted to unordered categorical codes.\n",
    "      - ord_idx (ordinal): converted to ordered categorical codes (numeric sort if possible, else lexical), then to codes.\n",
    "      - Any remaining non-numeric columns: treated as nominal and coded.\n",
    "\n",
    "    Returns a numeric DataFrame (ints/floats) suitable for distance computations.\n",
    "    \"\"\"\n",
    "    df2 = df.copy()\n",
    "    n_cols = df2.shape[1]\n",
    "\n",
    "    fac_idx = [] if fac_idx is None else list(fac_idx)\n",
    "    ord_idx = [] if ord_idx is None else list(ord_idx)\n",
    "\n",
    "    # 1) Handle nominal (unordered categorical)\n",
    "    for j in fac_idx:\n",
    "        s = df2.iloc[:, j]\n",
    "        if not isinstance(s.dtype, pd.CategoricalDtype):\n",
    "            s = s.astype(\"category\")\n",
    "        s = s.cat.as_unordered()\n",
    "        df2.iloc[:, j] = s.cat.codes.astype(\"int64\")\n",
    "\n",
    "    # 2) Handle ordinal (ordered categorical)\n",
    "    for j in ord_idx:\n",
    "        s = df2.iloc[:, j]\n",
    "        if isinstance(s.dtype, pd.CategoricalDtype):\n",
    "            s = s.cat.as_ordered()\n",
    "            df2.iloc[:, j] = pd.Series(s).cat.codes.astype(\"int64\")\n",
    "        else:\n",
    "            # Try numeric ordering first\n",
    "            try:\n",
    "                vals = pd.to_numeric(s, errors=\"raise\")\n",
    "                cats = np.unique(vals.dropna())\n",
    "                # Use string categories to be robust to mixed types while preserving order\n",
    "                cat_strings = [str(c) for c in np.sort(cats)]\n",
    "                s_str = s.astype(str)\n",
    "                s_ord = pd.Categorical(s_str, categories=cat_strings, ordered=True)\n",
    "                df2.iloc[:, j] = pd.Series(s_ord).cat.codes.astype(\"int64\")\n",
    "            except Exception:\n",
    "                # Fallback to lexical ordering\n",
    "                cats = sorted(s.astype(str).dropna().unique())\n",
    "                s_ord = pd.Categorical(s.astype(str), categories=cats, ordered=True)\n",
    "                df2.iloc[:, j] = pd.Series(s_ord).cat.codes.astype(\"int64\")\n",
    "\n",
    "    # 3) Remaining columns: if still non-numeric, treat as nominal codes\n",
    "    for j in range(n_cols):\n",
    "        s = df2.iloc[:, j]\n",
    "        if not pd.api.types.is_numeric_dtype(s):\n",
    "            s = s.astype(\"category\")\n",
    "            df2.iloc[:, j] = s.cat.codes.astype(\"int64\")\n",
    "\n",
    "    # 4) Ensure numeric dtype across the board\n",
    "    for col in df2.columns:\n",
    "        df2[col] = pd.to_numeric(df2[col], errors=\"coerce\")\n",
    "\n",
    "    return df2\n",
    "\n",
    "# -------------------------\n",
    "# FARI (Adjusted Fuzzy Rand Index)\n",
    "# -------------------------\n",
    "def fari(a: np.ndarray, b: np.ndarray):\n",
    "    \"\"\"\n",
    "    Adjusted Fuzzy Rand Index between membership matrices a and b (n x k).\n",
    "    Returns a single float.\n",
    "    \"\"\"\n",
    "    n = a.shape[0]\n",
    "    A = a @ a.T\n",
    "    B = b @ b.T\n",
    "    j = np.ones((n, n))\n",
    "\n",
    "    Na = (np.sum(A) / np.sum(A * A)) * A\n",
    "    Nb = (np.sum(B) / np.sum(B * B)) * B\n",
    "\n",
    "    ri = (np.sum(Na * Nb) + np.sum((j - Na) * (j - Nb)) - n) / (n * (n - 1))\n",
    "\n",
    "    M = j / n\n",
    "    R = np.eye(n) - M\n",
    "\n",
    "    term1 = (2 * np.sum(A) * np.sum(B)) / (np.sum(A * A) * np.sum(B * B))\n",
    "    term2 = np.sum(M * A) * np.sum(M * B) + (1 / (n - 1)) * np.sum(R * A) * np.sum(R * B)\n",
    "    term3 = (np.sum(A) ** 2) / np.sum(A * A)\n",
    "    term4 = (np.sum(B) ** 2) / np.sum(B * B)\n",
    "    Eri = (term1 * term2 - term3 - term4 + n**2 - n) / (n * (n - 1))\n",
    "\n",
    "    ari = (ri - Eri) / (1 - Eri)\n",
    "    return float(ari)\n",
    "\n",
    "# -------------------------\n",
    "# Kernels (continuous / nominal / ordinal)\n",
    "# -------------------------\n",
    "def c_gaussian(A, B, bws, Cmatrix_unused):\n",
    "    return np.sum((2 * np.pi) ** (-0.5) * np.exp(-(((A - B) / bws) ** 2) / 2))\n",
    "\n",
    "def c_uniform(A, B, bws, Cmatrix_unused):\n",
    "    return np.sum(np.where(np.abs((A - B) / bws) <= 1, 0.5, 0.0))\n",
    "\n",
    "def c_epanechnikov(A, B, bws, Cmatrix_unused):\n",
    "    return np.sum(np.where(np.abs((A - B) / bws) <= 1, 0.75 * (1 - ((A - B) / bws) ** 2), 0.0))\n",
    "\n",
    "def c_triangle(A, B, bws, Cmatrix_unused):\n",
    "    return np.sum(np.where(np.abs((A - B) / bws) <= 1, 1 - np.abs((A - B) / bws), 0.0))\n",
    "\n",
    "def c_biweight(A, B, bws, Cmatrix_unused):\n",
    "    z2 = ((A - B) / bws) ** 2\n",
    "    return np.sum(np.where(np.abs((A - B) / bws) <= 1, (15/32.0) * (3 - z2) ** 2, 0.0))\n",
    "\n",
    "def c_triweight(A, B, bws, Cmatrix_unused):\n",
    "    return np.sum(np.where(np.abs((A - B) / bws) <= 1, (35/32.0) * (1 - ((A - B) / bws) ** 2) ** 3, 0.0))\n",
    "\n",
    "def c_tricube(A, B, bws, Cmatrix_unused):\n",
    "    z = np.abs((A - B) / bws)\n",
    "    return np.sum(np.where(z <= 1, (70/81.0) * (1 - z ** 3) ** 3, 0.0))\n",
    "\n",
    "def c_cosine(A, B, bws, Cmatrix_unused):\n",
    "    z = (A - B) / bws\n",
    "    return np.sum(np.where(np.abs(z) <= 1, (np.pi/4.0) * np.cos((np.pi/2.0) * z), 0.0))\n",
    "\n",
    "def c_logistic(A, B, bws, Cmatrix_unused):\n",
    "    z = (A - B) / bws\n",
    "    return np.sum(1.0 / (np.exp(z) + 2.0 + np.exp(-z)))\n",
    "\n",
    "def c_sigmoid(A, B, bws, Cmatrix_unused):\n",
    "    z = (A - B) / bws\n",
    "    return np.sum(2.0 / (np.pi * (np.exp(z) + np.exp(-z))))\n",
    "\n",
    "def c_silverman(A, B, bws, Cmatrix_unused):\n",
    "    z = np.abs((A - B) / bws) / np.sqrt(2.0)\n",
    "    return np.sum((1.0 / bws) * 0.5 * np.exp(-z) * np.sin(z + np.pi / 4.0))\n",
    "\n",
    "# Unordered categorical kernels\n",
    "def u_aitchisonaitken(A, B, bws, Cfull):\n",
    "    res = 0.0\n",
    "    m = len(A)\n",
    "    for j in range(m):\n",
    "        unique_count = len(np.unique(Cfull[:, j]))\n",
    "        if unique_count <= 1:\n",
    "            res += (1 - bws[j])\n",
    "        else:\n",
    "            res += (1 - bws[j]) if A[j] == B[j] else bws[j] / (unique_count - 1)\n",
    "    return res\n",
    "\n",
    "def u_aitken(A, B, bws, Cfull):\n",
    "    res = 0.0\n",
    "    m = len(A)\n",
    "    for j in range(m):\n",
    "        res += 1.0 if A[j] == B[j] else bws[j]\n",
    "    return res\n",
    "\n",
    "# Ordinal kernels\n",
    "def o_wangvanryzin(A, B, bws, Cfull):\n",
    "    if np.all(A == B):\n",
    "        return float(np.sum(1 - bws))\n",
    "    else:\n",
    "        return float(np.sum(0.5 * (1 - bws) * (bws ** np.abs(A - B))))\n",
    "\n",
    "def o_aitchisonaitken(A, B, bws, Cfull):\n",
    "    return float(np.sum(np.where(A == B, 1.0, bws ** np.abs(A - B))))\n",
    "\n",
    "def o_aitken(A, B, bws, Cfull):\n",
    "    return float(np.sum(np.where(A == B, bws, (1 - bws) / (2 ** np.abs(A - B)))))\n",
    "\n",
    "def o_habbema(A, B, bws, Cfull):\n",
    "    return float(np.sum(bws ** (np.abs(A - B) ** 2)))\n",
    "\n",
    "def o_liracine(A, B, bws, Cfull):\n",
    "    return float(np.sum(np.where(A == B, 1.0, bws ** np.abs(A - B))))\n",
    "\n",
    "# -------------------------\n",
    "# KDSS distance (row vs center)\n",
    "# -------------------------\n",
    "def _select_kernel(_unused=None):\n",
    "    ck = {\n",
    "        \"c_gaussian\": c_gaussian, \"c_uniform\": c_uniform, \"c_epanechnikov\": c_epanechnikov,\n",
    "        \"c_triangle\": c_triangle, \"c_biweight\": c_biweight, \"c_triweight\": c_triweight,\n",
    "        \"c_tricube\": c_tricube, \"c_cosine\": c_cosine, \"c_logistic\": c_logistic,\n",
    "        \"c_sigmoid\": c_sigmoid, \"c_silverman\": c_silverman\n",
    "    }\n",
    "    uk = {\"u_aitken\": u_aitken, \"u_aitchisonaitken\": u_aitchisonaitken}\n",
    "    ok = {\"o_wangvanryzin\": o_wangvanryzin, \"o_habbema\": o_habbema,\n",
    "          \"o_aitken\": o_aitken, \"o_aitchisonaitken\": o_aitchisonaitken, \"o_liracine\": o_liracine}\n",
    "    return ck, uk, ok\n",
    "\n",
    "def dkss_distance(x, c, bw,\n",
    "                  cFUN=\"c_gaussian\", uFUN=\"u_aitken\", oFUN=\"o_wangvanryzin\",\n",
    "                  con_idx=None, fac_idx=None, ord_idx=None):\n",
    "    x = np.asarray(x); c = np.asarray(c); bw = np.asarray(bw)\n",
    "    assert x.shape == c.shape == bw.shape, \"x, c, bw must be same length\"\n",
    "\n",
    "    if con_idx is None: con_idx = list(range(len(x)))\n",
    "    if fac_idx is None: fac_idx = []\n",
    "    if ord_idx is None: ord_idx = []\n",
    "\n",
    "    ck, uk, ok = _select_kernel()\n",
    "    c_fun = ck[cFUN]; u_fun = uk[uFUN]; o_fun = ok[oFUN]\n",
    "\n",
    "    def compute(FUN, idx):\n",
    "        if len(idx) == 0: return 0.0\n",
    "        a = x[idx]; b = c[idx]; bws = bw[idx]\n",
    "        full = np.vstack([x, c])[:, idx]  # small \"full\" matrix (2 x |idx|)\n",
    "        return FUN(a, a, bws, full) + FUN(b, b, bws, full) - FUN(a, b, bws, full) - FUN(b, a, bws, full)\n",
    "\n",
    "    return float(compute(c_fun, con_idx) + compute(u_fun, fac_idx) + compute(o_fun, ord_idx))\n",
    "\n",
    "# -------------------------\n",
    "# FCM inner loop (no bw update) used inside GA objective\n",
    "# -------------------------\n",
    "def kdml_fcm_no_bw_update(X, C, bw, m, epsilon, con_idx, fac_idx, ord_idx, max_iter=1):\n",
    "    N, D = X.shape\n",
    "    U = np.random.rand(N, C)\n",
    "    U /= U.sum(axis=1, keepdims=True)\n",
    "\n",
    "    J_prev = float('inf')\n",
    "    for _ in range(max_iter):\n",
    "        # update centers (simple weighted mean on encoded features)\n",
    "        V = np.zeros((C, D))\n",
    "        for c in range(C):\n",
    "            w = (U[:, c] ** m).reshape(-1, 1)\n",
    "            num = np.sum(w * X, axis=0)\n",
    "            den = np.sum(U[:, c] ** m)\n",
    "            V[c] = num / max(den, 1e-12)\n",
    "\n",
    "        # distances\n",
    "        Dmat = np.zeros((N, C))\n",
    "        for i in range(N):\n",
    "            for c in range(C):\n",
    "                Dmat[i, c] = dkss_distance(\n",
    "                    X[i], V[c], bw=bw,\n",
    "                    cFUN=\"c_gaussian\", uFUN=\"u_aitken\", oFUN=\"o_wangvanryzin\",\n",
    "                    con_idx=con_idx, fac_idx=fac_idx, ord_idx=ord_idx\n",
    "                )\n",
    "\n",
    "        # update U\n",
    "        for i in range(N):\n",
    "            for c in range(C):\n",
    "                if Dmat[i, c] == 0:\n",
    "                    U[i, :] = 0; U[i, c] = 1\n",
    "                else:\n",
    "                    denom = 0.0\n",
    "                    for j in range(C):\n",
    "                        denom += (Dmat[i, c] / (Dmat[i, j] if Dmat[i, j] > 0 else 1e-12)) ** (2.0 / (m - 1))\n",
    "                    U[i, c] = 1.0 / max(denom, 1e-12)\n",
    "\n",
    "        J = np.sum((U ** m) * (Dmat ** 2))\n",
    "        if abs(J - J_prev) < epsilon: break\n",
    "        J_prev = J\n",
    "\n",
    "    return V, U\n",
    "\n",
    "# -------------------------\n",
    "# GA objective (negated FARI vs init membership)\n",
    "# -------------------------\n",
    "def objective(bw_candidate, U_ref, X, C, m, con_idx, fac_idx, ord_idx, epsilon=0.01, max_iter_obj=1):\n",
    "    _, U = kdml_fcm_no_bw_update(X=X, C=C, bw=np.asarray(bw_candidate), m=m, epsilon=epsilon,\n",
    "                                 con_idx=con_idx, fac_idx=fac_idx, ord_idx=ord_idx, max_iter=max_iter_obj)\n",
    "    return -fari(U, U_ref)\n",
    "\n",
    "# -------------------------\n",
    "# GA components\n",
    "# -------------------------\n",
    "def compute_diversity(population):\n",
    "    arr = np.array(population)\n",
    "    return float(np.mean(np.std(arr, axis=0)))\n",
    "\n",
    "def clamp_continuous(candidate, con_idx):\n",
    "    cand = list(candidate)\n",
    "    if con_idx is None:\n",
    "        for i in range(len(cand)):\n",
    "            cand[i] = max(cand[i], 0.1)\n",
    "    else:\n",
    "        for i in con_idx:\n",
    "            cand[i] = max(cand[i], 0.1)\n",
    "    return tuple(cand)\n",
    "\n",
    "def tournament_selection(pop, tournament_size, U_ref, X, C, m, con_idx, fac_idx, ord_idx, epsilon=0.01, max_iter_obj=1):\n",
    "    t = random.sample(pop, tournament_size)\n",
    "    return min(t, key=lambda ind: objective(ind, U_ref=U_ref, X=X, C=C, m=m,\n",
    "                                            con_idx=con_idx, fac_idx=fac_idx, ord_idx=ord_idx,\n",
    "                                            epsilon=epsilon, max_iter_obj=max_iter_obj))\n",
    "\n",
    "def one_point_crossover(p1, p2):\n",
    "    point = random.randint(1, len(p1) - 1)\n",
    "    return p1[:point] + p2[point:], p2[:point] + p1[point:]\n",
    "\n",
    "def mutate(individual, p_m, sigma, con_idx, fac_idx, ord_idx):\n",
    "    out = []\n",
    "    for i, gene in enumerate(individual):\n",
    "        g = gene\n",
    "        if random.random() < p_m:\n",
    "            g = g + np.random.normal(0, sigma)\n",
    "            if (fac_idx and i in fac_idx) or (ord_idx and i in ord_idx):\n",
    "                g = max(0.0, min(g, 1.0))\n",
    "            else:\n",
    "                g = max(g, 0.1)\n",
    "        out.append(g)\n",
    "    return tuple(out)\n",
    "\n",
    "def genetic_algorithm(pop_size, num_generations, bandwidth_length, p_m, p_c, tournament_size, sigma,\n",
    "                      U_ref, X, C, m, con_idx, fac_idx, ord_idx,\n",
    "                      verbose=False, initial_bw=None, max_iter_obj=1):\n",
    "    population = []\n",
    "    for _ in range(pop_size):\n",
    "        cand = []\n",
    "        for i in range(bandwidth_length):\n",
    "            if (fac_idx and i in fac_idx) or (ord_idx and i in ord_idx):\n",
    "                cand.append(random.uniform(0.0, 1.0))\n",
    "            else:\n",
    "                cand.append(random.uniform(0.001, 10.0))\n",
    "        population.append(clamp_continuous(tuple(cand), con_idx))\n",
    "    if initial_bw is not None:\n",
    "        population[0] = clamp_continuous(tuple(initial_bw), con_idx)\n",
    "\n",
    "    best = None\n",
    "    best_fit = float('inf')\n",
    "    prev_gen_best = float('inf')\n",
    "\n",
    "    for gen in range(num_generations):\n",
    "        gen_best_fit = float('inf'); gen_best = None\n",
    "        fits = []\n",
    "        for ind in population:\n",
    "            f = objective(ind, U_ref=U_ref, X=X, C=C, m=m,\n",
    "                          con_idx=con_idx, fac_idx=fac_idx, ord_idx=ord_idx,\n",
    "                          max_iter_obj=max_iter_obj)\n",
    "            fits.append(f)\n",
    "            if f < gen_best_fit:\n",
    "                gen_best_fit, gen_best = f, ind\n",
    "            if f < best_fit:\n",
    "                best_fit, best = f, ind\n",
    "\n",
    "        if verbose:\n",
    "            div = compute_diversity(population)\n",
    "            imp = 0 if prev_gen_best==float('inf') else (prev_gen_best - gen_best_fit)\n",
    "            print(f\"[GA] gen={gen+1}/{num_generations} best={gen_best_fit:.4f} avg={np.mean(fits):.4f} div={div:.4f} imp={imp:.4f}\")\n",
    "        prev_gen_best = gen_best_fit\n",
    "\n",
    "        new_pop = []\n",
    "        while len(new_pop) < pop_size:\n",
    "            p1 = tournament_selection(population, tournament_size, U_ref, X, C, m, con_idx, fac_idx, ord_idx, max_iter_obj=max_iter_obj)\n",
    "            p2 = tournament_selection(population, tournament_size, U_ref, X, C, m, con_idx, fac_idx, ord_idx, max_iter_obj=max_iter_obj)\n",
    "            if random.random() < p_c:\n",
    "                c1, c2 = one_point_crossover(p1, p2)\n",
    "            else:\n",
    "                c1, c2 = p1, p2\n",
    "            c1 = mutate(c1, p_m, sigma, con_idx, fac_idx, ord_idx)\n",
    "            c2 = mutate(c2, p_m, sigma, con_idx, fac_idx, ord_idx)\n",
    "            new_pop.extend([clamp_continuous(c1, con_idx), clamp_continuous(c2, con_idx)])\n",
    "        population = new_pop[:pop_size]\n",
    "\n",
    "    return best, best_fit, population\n",
    "\n",
    "# -------------------------\n",
    "# DDQN agent (device-aware)\n",
    "# -------------------------\n",
    "VHC=\"VHC\"; HC=\"HC\"; LC=\"LC\"; STALLED=\"Stalled\"; INCREASED=\"Increased\"\n",
    "VHD=\"VHD\"; HD=\"HD\"; MD=\"MD\"; LD=\"LD\"; VLD=\"VLD\"\n",
    "\n",
    "REWARD_TABLE = {\n",
    "    (VHC, VHD): 200,   (VHC, HD): 150,   (VHC, MD): 100,   (VHC, LD): 50,    (VHC, VLD): 25,\n",
    "    (HC,  VHD): 150,   (HC,  HD): 112.5, (HC,  MD): 75,    (HC,  LD): 37.5,  (HC,  VLD): 18.75,\n",
    "    (LC,  VHD): 100,   (LC,  HD): 75,    (LC,  MD): 50,    (LC,  LD): 25,    (LC,  VLD): 12.5,\n",
    "    (STALLED, VHD): 0, (STALLED, HD): 0, (STALLED, MD): -10, (STALLED, LD): -20, (STALLED, VLD): -30,\n",
    "    (INCREASED, VHD): -100, (INCREASED, HD): -150, (INCREASED, MD): -200, (INCREASED, LD): -250, (INCREASED, VLD): -300\n",
    "}\n",
    "\n",
    "def discretize_improvement(improvement):\n",
    "    if improvement > 0.005: return VHC\n",
    "    if improvement > 0.003: return HC\n",
    "    if improvement > 0.001: return LC\n",
    "    if improvement == 0:    return STALLED\n",
    "    return INCREASED\n",
    "\n",
    "def discretize_diversity(diversity):\n",
    "    if diversity > 0.8: return VHD\n",
    "    if diversity > 0.6: return HD\n",
    "    if diversity > 0.4: return MD\n",
    "    if diversity > 0.2: return LD\n",
    "    return VLD\n",
    "\n",
    "def state_to_index(state):\n",
    "    imp_map = {VHC:0, HC:1, LC:2, STALLED:3, INCREASED:4}\n",
    "    div_map = {VHD:0, HD:1, MD:2, LD:3, VLD:4}\n",
    "    return imp_map[state[0]]*5 + div_map[state[1]]\n",
    "\n",
    "def onehot_from_index(idx, size=25):\n",
    "    v = np.zeros(size, dtype=np.float32); v[idx]=1; return v\n",
    "\n",
    "def index_to_action(idx):\n",
    "    p_m = (idx // 5)/4.0\n",
    "    p_c = (idx % 5)/4.0\n",
    "    return (p_m, p_c)\n",
    "\n",
    "class QNetwork(nn.Module):\n",
    "    def __init__(self, in_dim, hidden_dims, out_dim):\n",
    "        super().__init__()\n",
    "        layers=[]; prev=in_dim\n",
    "        for h in hidden_dims:\n",
    "            layers += [nn.Linear(prev, h), nn.ReLU()]\n",
    "            prev = h\n",
    "        layers += [nn.Linear(prev, out_dim)]\n",
    "        self.net = nn.Sequential(*layers)\n",
    "    def forward(self, x):\n",
    "        return self.net(x)\n",
    "\n",
    "class DDQNAgent:\n",
    "    def __init__(self, state_size=25, action_size=25, hidden_dims=[64,64],\n",
    "                 lr=1e-3, gamma=0.9, epsilon=1.0, epsilon_min=0.05, epsilon_decay=0.995,\n",
    "                 buffer_size=10000, batch_size=32, target_update_freq=100, device=None):\n",
    "        self.state_size=state_size; self.action_size=action_size\n",
    "        self.gamma=gamma\n",
    "        self.epsilon=epsilon; self.epsilon_min=epsilon_min; self.epsilon_decay=epsilon_decay\n",
    "        self.batch_size=batch_size; self.target_update_freq=target_update_freq\n",
    "        self.update_counter=0\n",
    "        self.device = device or pick_device()\n",
    "\n",
    "        self.online_net = QNetwork(state_size, hidden_dims, action_size).to(self.device)\n",
    "        self.target_net = QNetwork(state_size, hidden_dims, action_size).to(self.device)\n",
    "        self.target_net.load_state_dict(self.online_net.state_dict()); self.target_net.eval()\n",
    "\n",
    "        self.optimizer = optim.Adam(self.online_net.parameters(), lr=lr)\n",
    "        self.replay = deque(maxlen=buffer_size)\n",
    "\n",
    "        # Debug: confirm model device\n",
    "        print(f\"[DDQN] Using device: {self.device} | param device: {next(self.online_net.parameters()).device}\")\n",
    "\n",
    "    def get_state(self, improvement, diversity):\n",
    "        return (discretize_improvement(improvement), discretize_diversity(diversity))\n",
    "\n",
    "    def _encode(self, state):\n",
    "        return onehot_from_index(state_to_index(state), self.state_size)\n",
    "\n",
    "    def choose_action(self, state):\n",
    "        if random.random() < self.epsilon:\n",
    "            return random.randint(0, self.action_size-1)\n",
    "        s = torch.from_numpy(self._encode(state)).unsqueeze(0).to(self.device)\n",
    "        with torch.no_grad():\n",
    "            q = self.online_net(s)\n",
    "        return int(q.argmax(dim=1))\n",
    "\n",
    "    def store(self, s,a,r,s2,done):\n",
    "        self.replay.append((s,a,r,s2,done))\n",
    "\n",
    "    def update_network(self):\n",
    "        if len(self.replay) < self.batch_size: return\n",
    "        batch = random.sample(self.replay, self.batch_size)\n",
    "        S, A, R, S2, D = zip(*batch)\n",
    "        S  = torch.from_numpy(np.vstack([self._encode(s)  for s  in S ])).to(self.device)\n",
    "        S2 = torch.from_numpy(np.vstack([self._encode(s2) for s2 in S2])).to(self.device)\n",
    "        A  = torch.tensor(A, dtype=torch.long, device=self.device).unsqueeze(1)\n",
    "        R  = torch.tensor(R, dtype=torch.float32, device=self.device).unsqueeze(1)\n",
    "        D  = torch.tensor(D, dtype=torch.float32, device=self.device).unsqueeze(1)\n",
    "\n",
    "        Q  = self.online_net(S).gather(1, A)\n",
    "        next_a = self.online_net(S2).argmax(dim=1, keepdim=True)\n",
    "        Q2 = self.target_net(S2).gather(1, next_a)\n",
    "        target = R + self.gamma * Q2 * (1 - D)\n",
    "\n",
    "        loss = nn.MSELoss()(Q, target.detach())\n",
    "        self.optimizer.zero_grad(); loss.backward(); self.optimizer.step()\n",
    "\n",
    "        self.update_counter += 1\n",
    "        if self.update_counter % self.target_update_freq == 0:\n",
    "            self.target_net.load_state_dict(self.online_net.state_dict())\n",
    "\n",
    "        self.epsilon = max(self.epsilon_min, self.epsilon*self.epsilon_decay)\n",
    "\n",
    "    def step(self, s, a, r, s2, done=False):\n",
    "        self.store(s,a,r,s2,done)\n",
    "        self.update_network()\n",
    "\n",
    "    def save(self, path):\n",
    "        torch.save(self.online_net.state_dict(), path)\n",
    "\n",
    "    def load(self, path):\n",
    "        self.online_net.load_state_dict(torch.load(path, map_location=self.device))\n",
    "        self.target_net.load_state_dict(self.online_net.state_dict())\n",
    "        self.online_net.to(self.device); self.target_net.to(self.device)\n",
    "\n",
    "    def assert_on_device(self):\n",
    "        dev = self.device\n",
    "        ok = all(p.device == dev for p in self.online_net.parameters())\n",
    "        print(f\"[DDQN] Params on {dev}: {ok}\")\n",
    "        return ok\n",
    "\n",
    "# -------------------------\n",
    "# RL wrapper around GA\n",
    "# -------------------------\n",
    "def estimate_bandwidth_vector_RL(state, initial_bw, RL_agent, prev_ga_obj,\n",
    "                                 U_ref, X, C, m, con_idx, fac_idx, ord_idx,\n",
    "                                 max_iter_obj=1, verbose=False):\n",
    "    r_list = []\n",
    "\n",
    "    action_idx = RL_agent.choose_action(state)\n",
    "    p_m, p_c = index_to_action(action_idx)\n",
    "    if verbose:\n",
    "        print(f\"[DDQN] state={state} -> action p_m={p_m:.2f}, p_c={p_c:.2f}\")\n",
    "\n",
    "    best_bw, best_obj, final_pop = genetic_algorithm(\n",
    "        pop_size=20, num_generations=10, bandwidth_length=len(initial_bw),\n",
    "        p_m=p_m, p_c=p_c, tournament_size=3, sigma=5.0,\n",
    "        U_ref=U_ref, X=X, C=C, m=m, con_idx=con_idx, fac_idx=fac_idx, ord_idx=ord_idx,\n",
    "        verbose=False, initial_bw=initial_bw, max_iter_obj=max_iter_obj\n",
    "    )\n",
    "\n",
    "    diversity = compute_diversity(final_pop)\n",
    "    improvement = 0.0 if prev_ga_obj is None else (prev_ga_obj - best_obj)\n",
    "    next_state = (discretize_improvement(improvement), discretize_diversity(diversity))\n",
    "    reward = REWARD_TABLE[next_state]\n",
    "\n",
    "    RL_agent.step(state, action_idx, reward, next_state, done=False)\n",
    "    r_list.append(reward)\n",
    "\n",
    "    if verbose:\n",
    "        print(f\"[DDQN] improvement={improvement:.6f} diversity={diversity:.4f} reward={reward}\")\n",
    "\n",
    "    return best_bw, best_obj, r_list, next_state\n",
    "\n",
    "def train_RL_agent(X, initial_bw, RL_agent, prev_ga_obj, U_ref, C, m,\n",
    "                   con_idx, fac_idx, ord_idx, B=200, max_iter_obj=1,\n",
    "                   ckpt_dir=\"./checkpoints\", verbose=False):\n",
    "    ensure_dir(ckpt_dir)\n",
    "    rewards_all = []\n",
    "    state = (STALLED, VLD)\n",
    "    bw_current = list(initial_bw)\n",
    "\n",
    "    for b in tqdm(range(B), desc=\"Training DDQN\"):\n",
    "        bw_current, ga_obj, r_list, state = estimate_bandwidth_vector_RL(\n",
    "            state=state, initial_bw=bw_current, RL_agent=RL_agent, prev_ga_obj=prev_ga_obj,\n",
    "            U_ref=U_ref, X=X, C=C, m=m, con_idx=con_idx, fac_idx=fac_idx, ord_idx=ord_idx,\n",
    "            max_iter_obj=max_iter_obj, verbose=verbose\n",
    "        )\n",
    "        rewards_all.extend(r_list)\n",
    "        prev_ga_obj = ga_obj\n",
    "\n",
    "        if (b+1) % 50 == 0:\n",
    "            RL_agent.save(os.path.join(ckpt_dir, \"ddqn_agent.pt\"))\n",
    "\n",
    "    RL_agent.save(os.path.join(ckpt_dir, \"ddqn_agent.pt\"))\n",
    "\n",
    "    # Plot cumulative reward\n",
    "    plt.figure(figsize=(8,5))\n",
    "    plt.plot(np.cumsum(rewards_all), marker='o')\n",
    "    plt.title(\"Cumulative Reward during DDQN Training\")\n",
    "    plt.xlabel(\"Episode\"); plt.ylabel(\"Cumulative Reward\"); plt.grid(True)\n",
    "    ensure_dir(\"./outputs\"); plt.savefig(\"./outputs/ddqn_training_rewards.png\", dpi=200, bbox_inches=\"tight\"); plt.close()\n",
    "\n",
    "    return RL_agent, rewards_all\n",
    "\n",
    "# -------------------------\n",
    "# Full KDSS-FCM with RL-GA bandwidth search\n",
    "# -------------------------\n",
    "def centers_from_membership(X, U, m):\n",
    "    C = U.shape[1]; D = X.shape[1]\n",
    "    V = np.zeros((C, D))\n",
    "    for c in range(C):\n",
    "        w = (U[:, c] ** m).reshape(-1, 1)\n",
    "        num = np.sum(w * X, axis=0)\n",
    "        den = np.sum(U[:, c] ** m)\n",
    "        V[c] = num / max(den, 1e-12)\n",
    "    return V\n",
    "\n",
    "def kdml_fcm(X, C, m, epsilon, con_idx, fac_idx, ord_idx,\n",
    "             U_init, max_iter=100, verbose=False,\n",
    "             RL_agent=None, train_B=0, max_iter_obj=1, ckpt_dir=\"./checkpoints\"):\n",
    "    N, D = X.shape\n",
    "\n",
    "    # Ensure lists\n",
    "    con_idx = [] if con_idx is None else list(con_idx)\n",
    "    fac_idx = [] if fac_idx is None else list(fac_idx)\n",
    "    ord_idx = [] if ord_idx is None else list(ord_idx)\n",
    "\n",
    "    # Initialize fuzzy membership from provided init membership (normalize)\n",
    "    U = np.asarray(U_init, dtype=float)\n",
    "    U = U / np.clip(U.sum(axis=1, keepdims=True), 1e-12, None)\n",
    "\n",
    "    # Initialize centers from that membership\n",
    "    V = centers_from_membership(X, U, m)\n",
    "\n",
    "    # Random start bandwidths per feature type (fallback to one-per-col if mismatch)\n",
    "    bw_current = [np.random.uniform(0.1,100) for _ in con_idx] \\\n",
    "               + [np.random.uniform(0,1)   for _ in fac_idx] \\\n",
    "               + [np.random.uniform(0,1)   for _ in ord_idx]\n",
    "    if len(bw_current) != D:\n",
    "        bw_current = [np.random.uniform(0.1, 10.0) for _ in range(D)]\n",
    "        con_idx = list(range(D)); fac_idx=[]; ord_idx=[]\n",
    "\n",
    "    # Train / init agent\n",
    "    if RL_agent is None:\n",
    "        RL_agent = DDQNAgent(lr=1e-3, gamma=0.9, epsilon=1.0)\n",
    "\n",
    "    if train_B and train_B > 0:\n",
    "        RL_agent, _ = train_RL_agent(\n",
    "            X=X, initial_bw=bw_current, RL_agent=RL_agent, prev_ga_obj=None,\n",
    "            U_ref=U, C=C, m=m, con_idx=con_idx, fac_idx=fac_idx, ord_idx=ord_idx,\n",
    "            B=train_B, max_iter_obj=max_iter_obj, ckpt_dir=ckpt_dir, verbose=verbose\n",
    "        )\n",
    "\n",
    "    # RL loop over FCM iterations\n",
    "    J_prev = float('inf')\n",
    "    reward_history = []\n",
    "    state = RL_agent.get_state(0.0, 1.0)  # start state\n",
    "\n",
    "    for it in range(max_iter):\n",
    "        if verbose:\n",
    "            print(f\"\\n[FCM] iter={it}\")\n",
    "\n",
    "        # One RL-GA step to update bandwidth\n",
    "        bw_current, ga_obj, r_list, state = estimate_bandwidth_vector_RL(\n",
    "            state=state, initial_bw=bw_current, RL_agent=RL_agent, prev_ga_obj=None,\n",
    "            U_ref=U, X=X, C=C, m=m, con_idx=con_idx, fac_idx=fac_idx, ord_idx=ord_idx,\n",
    "            max_iter_obj=max_iter_obj, verbose=verbose\n",
    "        )\n",
    "        reward_history.extend(r_list)\n",
    "\n",
    "        # Update centers from current U\n",
    "        V = centers_from_membership(X, U, m)\n",
    "\n",
    "        # Distances with new bw\n",
    "        Dmat = np.zeros((N, C))\n",
    "        for i in range(N):\n",
    "            for c in range(C):\n",
    "                Dmat[i, c] = dkss_distance(\n",
    "                    X[i], V[c], np.asarray(bw_current),\n",
    "                    cFUN=\"c_gaussian\", uFUN=\"u_aitken\", oFUN=\"o_wangvanryzin\",\n",
    "                    con_idx=con_idx, fac_idx=fac_idx, ord_idx=ord_idx\n",
    "                )\n",
    "\n",
    "        # Update U\n",
    "        for i in range(N):\n",
    "            for c in range(C):\n",
    "                if Dmat[i, c] == 0:\n",
    "                    U[i, :] = 0; U[i, c] = 1\n",
    "                else:\n",
    "                    denom = 0.0\n",
    "                    for j in range(C):\n",
    "                        denom += (Dmat[i, c] / (Dmat[i, j] if Dmat[i, j] > 0 else 1e-12)) ** (2.0 / (m - 1))\n",
    "                    U[i, c] = 1.0 / max(denom, 1e-12)\n",
    "\n",
    "        J = np.sum((U ** m) * (Dmat ** 2))\n",
    "        if verbose:\n",
    "            print(f\"[FCM] J={J:.6f}  Δ={abs(J-J_prev):.3e}  bw[0..3]={np.asarray(bw_current)[:3]}\")\n",
    "        if abs(J - J_prev) < epsilon:\n",
    "            if verbose: print(f\"[FCM] Converged at iter {it}\")\n",
    "            break\n",
    "        J_prev = J\n",
    "\n",
    "    # Plot cumulative reward\n",
    "    ensure_dir(\"./outputs\")\n",
    "    plt.figure(figsize=(8,5))\n",
    "    plt.plot(np.cumsum(reward_history))\n",
    "    plt.title(\"Cumulative Reward during KDSS-FCM (DDQN-controlled)\")\n",
    "    plt.xlabel(\"Iteration\"); plt.ylabel(\"Cumulative Reward\"); plt.grid(True)\n",
    "    plt.savefig(\"./outputs/fcm_cumulative_reward.png\", dpi=200, bbox_inches=\"tight\"); plt.close()\n",
    "\n",
    "    return V, U, reward_history, np.asarray(bw_current)\n",
    "\n",
    "# =========================================================================================\n",
    "# === Train DDQN-GA KDSS-FCM using your CSVs (first 3 cols are data: 2 continuous + 1 ordinal)\n",
    "# =========================================================================================\n",
    "\n",
    "# 1) File paths you provided\n",
    "DATA_CSV       = \"./data/3D 2 Cont 1 Ord C=2/CUSTOM_G_mean_-3_0_3_sd_1_1_1_Ga_a_2_4_6_b_1.5_1.2_0.9_Pois_2_6_10.csv\"\n",
    "INIT_MEMB_CSV  = \"./data/3D 2 Cont 1 Ord C=2/CUSTOM_G_mean_-3_0_3_sd_1_1_1_Ga_a_2_4_6_b_1.5_1.2_0.9_Pois_2_6_10_membership.csv\"\n",
    "TRUE_POST_CSV  = \"./data/3D 2 Cont 1 Ord C=2/CUSTOM_G_mean_-3_0_3_sd_1_1_1_Ga_a_2_4_6_b_1.5_1.2_0.9_Pois_2_6_10_true_posterior.csv\"\n",
    "\n",
    "# 2) Mixed-type indices (0-based): first two continuous, last is ordinal\n",
    "con_idx = [0, 1]\n",
    "fac_idx = None\n",
    "ord_idx = [2]\n",
    "\n",
    "# 3) Hyperparameters\n",
    "m              = 1.2\n",
    "epsilon        = 1e-3\n",
    "max_iters      = 100          # outer FCM iterations\n",
    "max_iter_obj   = 1            # inner FCM lookahead for GA objective\n",
    "train_B        = 150          # DDQN pre-training episodes (GA-only); set 0 to skip\n",
    "verbose        = True\n",
    "ckpt_dir       = \"./checkpoints\"\n",
    "\n",
    "os.makedirs(\"./outputs\", exist_ok=True)\n",
    "os.makedirs(ckpt_dir, exist_ok=True)\n",
    "\n",
    "# 4) Load CSVs\n",
    "df_full  = pd.read_csv(DATA_CSV)\n",
    "df       = df_full.iloc[:, :3].copy()           # only the first 3 columns are data\n",
    "U_init   = pd.read_csv(INIT_MEMB_CSV).to_numpy(dtype=float)\n",
    "U_true   = pd.read_csv(TRUE_POST_CSV).to_numpy(dtype=float)\n",
    "\n",
    "print(f\"Data shape (raw/used): {df_full.shape} / {df.shape}\")\n",
    "print(f\"Init membership shape: {U_init.shape}\")\n",
    "print(f\"True posterior shape : {U_true.shape}\")\n",
    "\n",
    "# 5) Encode mixed dataframe -> numeric matrix for kernels\n",
    "X = encode_mixed_df(df, fac_idx=fac_idx, ord_idx=ord_idx).to_numpy(dtype=float)\n",
    "\n",
    "# 6) Shape checks / cluster count\n",
    "n = X.shape[0]\n",
    "if U_init.shape[0] != n or U_true.shape[0] != n:\n",
    "    raise ValueError(f\"Row mismatch: data n={n}, init_U n={U_init.shape[0]}, true_post n={U_true.shape[0]}\")\n",
    "C = U_init.shape[1]  # infer number of clusters\n",
    "print(f\"Inferred clusters C = {C}\")\n",
    "\n",
    "# 7) Create / load DDQN agent with device\n",
    "device = pick_device()\n",
    "print(f\"[System] Selected device: {device}\")\n",
    "agent = DDQNAgent(lr=1e-3, gamma=0.9, epsilon=1.0, device=device)\n",
    "agent.assert_on_device()\n",
    "\n",
    "agent_path = os.path.join(ckpt_dir, \"ddqn_agent.pt\")\n",
    "agent.load(agent_path)\n",
    "# if os.path.exists(agent_path):\n",
    "#     try:\n",
    "#         agent.load(agent_path)\n",
    "#         print(f\"[Agent] Loaded from {agent_path}\")\n",
    "#     except Exception as e:\n",
    "#         print(f\"[Agent] Could not load checkpoint ({e}); starting fresh.\")\n",
    "\n",
    "# Optional quick GPU/MPS runtime check\n",
    "s_test = torch.from_numpy(agent._encode(agent.get_state(0.0, 1.0))).unsqueeze(0).to(agent.device)\n",
    "with torch.no_grad():\n",
    "    q_test = agent.online_net(s_test)\n",
    "print(\"[Check] Q tensor device:\", q_test.device)\n",
    "\n",
    "# 8) Run KDSS-FCM with DDQN-controlled GA\n",
    "V_final, U_final, reward_hist, bw_final = kdml_fcm(\n",
    "    X=X,\n",
    "    C=C,\n",
    "    m=m,\n",
    "    epsilon=epsilon,\n",
    "    con_idx=con_idx,\n",
    "    fac_idx=fac_idx,\n",
    "    ord_idx=ord_idx,\n",
    "    U_init=U_init,\n",
    "    max_iter=max_iters,\n",
    "    verbose=verbose,\n",
    "    RL_agent=agent,\n",
    "    train_B=train_B,          # set to 0 to skip pre-training\n",
    "    max_iter_obj=max_iter_obj,\n",
    "    ckpt_dir=ckpt_dir\n",
    ")\n",
    "\n",
    "# Save agent checkpoint\n",
    "agent.save(agent_path)\n",
    "print(f\"[Agent] Saved to {agent_path}\")\n",
    "\n",
    "# 9) Evaluate and persist outputs\n",
    "fari_vs_truth = fari(U_final, U_true)\n",
    "fari_vs_init  = fari(U_final, U_init)\n",
    "print(\"\\n=== RESULTS (Your CSVs) ===\")\n",
    "print(f\"FARI(U_final, true_post) = {fari_vs_truth:.6f}\")\n",
    "print(f\"FARI(U_final, init_U)    = {fari_vs_init:.6f}\")\n",
    "print(f\"Final bandwidth (all): {np.asarray(bw_final)}\")\n",
    "\n",
    "np.savetxt(\"./outputs/U_final.csv\", U_final, delimiter=\",\")\n",
    "np.savetxt(\"./outputs/V_final.csv\", V_final, delimiter=\",\")\n",
    "np.savetxt(\"./outputs/bw_final.csv\", np.asarray(bw_final), delimiter=\",\")\n",
    "print(\"Saved: ./outputs/U_final.csv, ./outputs/V_final.csv, ./outputs/bw_final.csv\")\n",
    "\n",
    "# 10) Reward plot\n",
    "cum = np.cumsum(reward_hist)\n",
    "plt.figure(figsize=(8,5))\n",
    "plt.plot(cum, marker='o')\n",
    "plt.title(\"Cumulative Reward during KDSS-FCM (DDQN-controlled)\")\n",
    "plt.xlabel(\"FCM iteration\")\n",
    "plt.ylabel(\"Cumulative reward\")\n",
    "plt.grid(True)\n",
    "plt.show()\n"
   ]
  },
  {
   "cell_type": "code",
   "execution_count": 1,
   "id": "e81c9845-1441-4d68-811d-ecb27e45feea",
   "metadata": {},
   "outputs": [
    {
     "name": "stdout",
     "output_type": "stream",
     "text": [
      "Membership matrix:\n",
      "   cluster_1  cluster_2  cluster_3\n",
      "0          1          0          0\n",
      "1          0          1          0\n",
      "2          1          0          0\n",
      "3          0          1          0\n",
      "4          0          0          1 \n",
      "\n",
      "True posterior memberships:\n",
      "      cluster_1  cluster_2     cluster_3\n",
      "0  9.940605e-01   0.005939  2.326022e-09\n",
      "1  9.999510e-01   0.000049  1.245670e-13\n",
      "2  2.080393e-04   0.993395  6.396589e-03\n",
      "3  9.994352e-01   0.000565  1.127854e-11\n",
      "4  7.736371e-12   0.009033  9.909666e-01 \n",
      "\n",
      "Data:\n",
      "   X_gauss_1  X_gamma_1  Y_pois_1  TrueCluster  PredCluster\n",
      "0  -1.665087   1.087544         1            1            1\n",
      "1  -3.869272   3.207869         1            1            2\n",
      "2   0.055487   9.590700         6            2            1\n",
      "3  -2.950933   1.359228         2            1            2\n",
      "4   2.421644   7.116113        11            3            3\n"
     ]
    }
   ],
   "source": [
    "import pandas as pd\n",
    "\n",
    "# Define file paths\n",
    "membership_path = \"data/3D 2 Cont 1 Ord C=2/CUSTOM_G_mean_-3_0_3_sd_1_1_1_Ga_a_2_4_6_b_1.5_1.2_0.9_Pois_2_6_10_membership.csv\"\n",
    "true_post_path = \"data/3D 2 Cont 1 Ord C=2/CUSTOM_G_mean_-3_0_3_sd_1_1_1_Ga_a_2_4_6_b_1.5_1.2_0.9_Pois_2_6_10_true_posterior.csv\"\n",
    "data_path = \"data/3D 2 Cont 1 Ord C=2/CUSTOM_G_mean_-3_0_3_sd_1_1_1_Ga_a_2_4_6_b_1.5_1.2_0.9_Pois_2_6_10.csv\"\n",
    "\n",
    "# Load datasets\n",
    "membership_df = pd.read_csv(membership_path)\n",
    "true_post_df = pd.read_csv(true_post_path)\n",
    "data_df = pd.read_csv(data_path)\n",
    "\n",
    "# Print heads\n",
    "print(\"Membership matrix:\")\n",
    "print(membership_df.head(), \"\\n\")\n",
    "\n",
    "print(\"True posterior memberships:\")\n",
    "print(true_post_df.head(), \"\\n\")\n",
    "\n",
    "print(\"Data:\")\n",
    "print(data_df.head())\n"
   ]
  },
  {
   "cell_type": "code",
   "execution_count": null,
   "id": "63330b24-5762-4c25-a773-b11d89d5d48c",
   "metadata": {},
   "outputs": [],
   "source": []
  }
 ],
 "metadata": {
  "kernelspec": {
   "display_name": "Python 3 (ipykernel)",
   "language": "python",
   "name": "python3"
  },
  "language_info": {
   "codemirror_mode": {
    "name": "ipython",
    "version": 3
   },
   "file_extension": ".py",
   "mimetype": "text/x-python",
   "name": "python",
   "nbconvert_exporter": "python",
   "pygments_lexer": "ipython3",
   "version": "3.11.2"
  }
 },
 "nbformat": 4,
 "nbformat_minor": 5
}
